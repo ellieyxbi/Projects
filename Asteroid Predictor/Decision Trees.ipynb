{
 "cells": [
  {
   "cell_type": "code",
   "execution_count": 1,
   "id": "a6acbc3a",
   "metadata": {},
   "outputs": [],
   "source": [
    "import pandas as pd\n",
    "import matplotlib.pyplot as plt\n",
    "import seaborn as sns\n",
    "import numpy as np"
   ]
  },
  {
   "cell_type": "code",
   "execution_count": 2,
   "id": "8649ae92",
   "metadata": {},
   "outputs": [],
   "source": [
    "from sklearn.model_selection import train_test_split\n",
    "from sklearn.tree import DecisionTreeClassifier, plot_tree, export_text\n",
    "from sklearn.metrics import classification_report, confusion_matrix, mean_squared_error, accuracy_score\n",
    "from sklearn.preprocessing import MinMaxScaler"
   ]
  },
  {
   "cell_type": "code",
   "execution_count": 3,
   "id": "cc4d99d7",
   "metadata": {},
   "outputs": [],
   "source": [
    "dat = pd.read_csv(\"processed.csv\")"
   ]
  },
  {
   "cell_type": "markdown",
   "id": "24901b91",
   "metadata": {},
   "source": [
    "# Model Building"
   ]
  },
  {
   "cell_type": "code",
   "execution_count": 5,
   "id": "6d2abf31",
   "metadata": {},
   "outputs": [],
   "source": [
    "features = dat.drop(columns = ['pha'])\n",
    "\n",
    "x = features.values\n",
    "y = dat['pha'].values\n",
    "\n",
    "xtrain, xtest, ytrain, ytest = train_test_split(x, y, test_size = 0.8, random_state = 8)"
   ]
  },
  {
   "cell_type": "code",
   "execution_count": 6,
   "id": "8fdea124",
   "metadata": {},
   "outputs": [
    {
     "name": "stdout",
     "output_type": "stream",
     "text": [
      "Training MSE error is: 0.0\n",
      "Testing MSE error is: 0.0001\n"
     ]
    }
   ],
   "source": [
    "clf = DecisionTreeClassifier(random_state = 8)\n",
    "clf.fit(xtrain, ytrain)\n",
    "\n",
    "pred = clf.predict(xtest)\n",
    "\n",
    "print(f'Training MSE error is: {round(mean_squared_error(clf.predict(xtrain), np.asarray(ytrain).reshape(-1, 1)), 4)}')\n",
    "print(f'Testing MSE error is: {round(mean_squared_error(pred, np.asarray(ytest).reshape(-1, 1)), 4)}')"
   ]
  },
  {
   "cell_type": "code",
   "execution_count": 7,
   "id": "b52ab2a7",
   "metadata": {},
   "outputs": [
    {
     "name": "stdout",
     "output_type": "stream",
     "text": [
      "              precision    recall  f1-score   support\n",
      "\n",
      " No Diabetes     1.0000    0.9998    0.9999     52360\n",
      "    Diabetes     0.9998    1.0000    0.9999     52410\n",
      "\n",
      "    accuracy                         0.9999    104770\n",
      "   macro avg     0.9999    0.9999    0.9999    104770\n",
      "weighted avg     0.9999    0.9999    0.9999    104770\n",
      "\n"
     ]
    }
   ],
   "source": [
    "print(classification_report(ytest, pred,\n",
    "                            digits = 4,\n",
    "                            target_names = [\"No Diabetes\", \"Diabetes\"],\n",
    "                            zero_division = 1))"
   ]
  },
  {
   "cell_type": "code",
   "execution_count": 8,
   "id": "6f50bb2f",
   "metadata": {},
   "outputs": [
    {
     "data": {
      "image/png": "[encoded data removed]",
      "text/plain": [
       "<Figure size 640x480 with 2 Axes>"
      ]
     },
     "metadata": {},
     "output_type": "display_data"
    }
   ],
   "source": [
    "cm = confusion_matrix(ytest, pred)\n",
    "sns.heatmap(cm, annot = True, fmt = \"d\", cmap = \"Blues\")\n",
    "plt.title('Confusion Matrix')\n",
    "plt.xlabel('Predicted')\n",
    "plt.ylabel('Actual')\n",
    "plt.show()"
   ]
  },
  {
   "cell_type": "code",
   "execution_count": 9,
   "id": "5a7eb7e7",
   "metadata": {},
   "outputs": [
    {
     "name": "stdout",
     "output_type": "stream",
     "text": [
      "Feature Importance (Descending Order):\n",
      "moid: 0.9993893111082711\n",
      "H: 0.0006106888917288729\n",
      "Unnamed: 0: 0.0\n",
      "neo: 0.0\n",
      "diameter: 0.0\n",
      "albedo: 0.0\n",
      "diameter_sigma: 0.0\n",
      "epoch: 0.0\n",
      "epoch_mjd: 0.0\n",
      "epoch_cal: 0.0\n",
      "e: 0.0\n",
      "a: 0.0\n",
      "q: 0.0\n",
      "i: 0.0\n",
      "om: 0.0\n",
      "w: 0.0\n",
      "ma: 0.0\n",
      "ad: 0.0\n",
      "n: 0.0\n",
      "tp: 0.0\n",
      "tp_cal: 0.0\n",
      "per: 0.0\n",
      "per_y: 0.0\n",
      "moid_ld: 0.0\n",
      "sigma_e: 0.0\n",
      "sigma_a: 0.0\n",
      "sigma_q: 0.0\n",
      "sigma_i: 0.0\n",
      "sigma_om: 0.0\n",
      "sigma_w: 0.0\n",
      "sigma_ma: 0.0\n",
      "sigma_ad: 0.0\n",
      "sigma_n: 0.0\n",
      "sigma_tp: 0.0\n",
      "sigma_per: 0.0\n",
      "class: 0.0\n",
      "rms: 0.0\n"
     ]
    }
   ],
   "source": [
    "feature_importance = clf.feature_importances_\n",
    "sortfeat = sorted(zip(features.columns, feature_importance), key=lambda x: x[1], reverse=True)\n",
    "\n",
    "print(\"Feature Importance (Descending Order):\")\n",
    "for feature, importance in sortfeat:\n",
    "    print(f\"{feature}: {importance}\")"
   ]
  }
 ],
 "metadata": {
  "kernelspec": {
   "display_name": "Python 3 (ipykernel)",
   "language": "python",
   "name": "python3"
  },
  "language_info": {
   "codemirror_mode": {
    "name": "ipython",
    "version": 3
   },
   "file_extension": ".py",
   "mimetype": "text/x-python",
   "name": "python",
   "nbconvert_exporter": "python",
   "pygments_lexer": "ipython3",
   "version": "3.11.4"
  }
 },
 "nbformat": 4,
 "nbformat_minor": 5
}
