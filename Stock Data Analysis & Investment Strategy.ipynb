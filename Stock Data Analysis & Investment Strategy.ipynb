{
 "cells": [
  {
   "cell_type": "markdown",
   "id": "5221d72a",
   "metadata": {},
   "source": [
    "# Stock Data Analysis & Investment Strategy"
   ]
  },
  {
   "cell_type": "markdown",
   "id": "883364da",
   "metadata": {},
   "source": [
    "### Objective: Analyze FAANG, SPY, & QQQ stock & determine if all-in investment v.s. dollar-cost averaging is better."
   ]
  },
  {
   "cell_type": "code",
   "execution_count": 8,
   "id": "9fc53cfe",
   "metadata": {},
   "outputs": [],
   "source": [
    "from bs4 import BeautifulSoup\n",
    "import requests"
   ]
  },
  {
   "cell_type": "code",
   "execution_count": 9,
   "id": "03d69c63",
   "metadata": {},
   "outputs": [],
   "source": [
    "import pandas as pd\n",
    "import numpy as np"
   ]
  },
  {
   "cell_type": "code",
   "execution_count": 10,
   "id": "5be4495f",
   "metadata": {},
   "outputs": [],
   "source": [
    "import plotly.io as pio\n",
    "pio.renderers.default = 'notebook'"
   ]
  },
  {
   "cell_type": "code",
   "execution_count": 11,
   "id": "f764c8fe",
   "metadata": {},
   "outputs": [],
   "source": [
    "import matplotlib.pyplot as plt\n",
    "import plotly.express as px"
   ]
  },
  {
   "cell_type": "code",
   "execution_count": 12,
   "id": "53b07c0b",
   "metadata": {},
   "outputs": [],
   "source": [
    "pd.set_option('display.max_rows', 6)"
   ]
  },
  {
   "cell_type": "code",
   "execution_count": 13,
   "id": "c0c3302d",
   "metadata": {},
   "outputs": [
    {
     "data": {
      "text/html": [
       "        <script type=\"text/javascript\">\n",
       "        window.PlotlyConfig = {MathJaxConfig: 'local'};\n",
       "        if (window.MathJax && window.MathJax.Hub && window.MathJax.Hub.Config) {window.MathJax.Hub.Config({SVG: {font: \"STIX-Web\"}});}\n",
       "        if (typeof require !== 'undefined') {\n",
       "        require.undef(\"plotly\");\n",
       "        requirejs.config({\n",
       "            paths: {\n",
       "                'plotly': ['https://cdn.plot.ly/plotly-2.12.1.min']\n",
       "            }\n",
       "        });\n",
       "        require(['plotly'], function(Plotly) {\n",
       "            window._Plotly = Plotly;\n",
       "        });\n",
       "        }\n",
       "        </script>\n",
       "        "
      ]
     },
     "metadata": {},
     "output_type": "display_data"
    }
   ],
   "source": [
    "import plotly.offline as pyo\n",
    "pyo.init_notebook_mode(connected=True)"
   ]
  },
  {
   "cell_type": "markdown",
   "id": "1ccce8c8",
   "metadata": {},
   "source": [
    "# Obtaining Data"
   ]
  },
  {
   "cell_type": "markdown",
   "id": "9b57628f",
   "metadata": {},
   "source": [
    "### DataFrame Function"
   ]
  },
  {
   "cell_type": "code",
   "execution_count": 14,
   "id": "706f67bf",
   "metadata": {},
   "outputs": [],
   "source": [
    "headers = {\n",
    "    'User-Agent':'Mozilla/5.0 (Windows NT 10.0; Win64; x64) AppleWebKit/537.36 (KHTML, like Gecko) Chrome/116.0.0.0 Safari/537.36'\n",
    "    }  \n",
    "\n",
    "def create_df(url):\n",
    "    # obtaining html\n",
    "    html = requests.get(url, headers = headers)\n",
    "    data = BeautifulSoup(html.content, 'html.parser')\n",
    "    \n",
    "    # creating empty df\n",
    "    df = pd.DataFrame()\n",
    "    \n",
    "    rows = data.select('tbody tr')\n",
    "    \n",
    "    # obtaining info from html\n",
    "    for row in data.find(\"tbody\").find_all('tr'):\n",
    "        col = row.find_all(\"td\")\n",
    "        if len(col) != 2:\n",
    "            date = col[0].text; _open = col[1].text; high = col[2].text; low = col[3].text; close = col[4].text; adj_close = col[5].text; volume = col[6].text\n",
    "\n",
    "            add_row = pd.DataFrame([{\"Date\":date, \"Open\":_open, \"High\":high, \"Low\":low, \"Close\":close, \"Adj. Close\":adj_close, \"Volume\":volume}])\n",
    "            df = pd.concat([df, add_row], ignore_index = True)\n",
    "    \n",
    "    # organizing info\n",
    "    replace_cols = []\n",
    "    for col in df.columns:\n",
    "        if df[col].dtype == 'object':\n",
    "            if df[col].str.contains(',').any():\n",
    "                replace_cols.append(col)\n",
    "\n",
    "    for col in replace_cols:\n",
    "        df[col] = df[col].str.replace(',', '')\n",
    "\n",
    "    df = df.astype({'Open':'float', 'High':'float', 'Low':'float', 'Close':'float', 'Adj. Close':'float', 'Volume':'float'})\n",
    "    df[\"Date\"] = pd.to_datetime(df[\"Date\"])\n",
    "    \n",
    "    return df"
   ]
  },
  {
   "cell_type": "markdown",
   "id": "8040f8bb",
   "metadata": {},
   "source": [
    "### Obtaining Data from Yahoo Finance"
   ]
  },
  {
   "cell_type": "code",
   "execution_count": 15,
   "id": "387c6d6d",
   "metadata": {},
   "outputs": [],
   "source": [
    "meta_url = 'https://finance.yahoo.com/quote/META/history?period1=1534982400&period2=1692748800&interval=1mo&filter=history&frequency=1mo&includeAdjustedClose=true'\n",
    "amzn_url = 'https://finance.yahoo.com/quote/AMZN/history?period1=1534982400&period2=1692748800&interval=1mo&filter=history&frequency=1mo&includeAdjustedClose=true'\n",
    "aapl_url = 'https://finance.yahoo.com/quote/AAPL/history?period1=1534982400&period2=1692748800&interval=1mo&filter=history&frequency=1mo&includeAdjustedClose=true'\n",
    "nflx_url = 'https://finance.yahoo.com/quote/NFLX/history?period1=1534982400&period2=1692748800&interval=1mo&filter=history&frequency=1mo&includeAdjustedClose=true'\n",
    "goog_url = 'https://finance.yahoo.com/quote/GOOG/history?period1=1534982400&period2=1692748800&interval=1mo&filter=history&frequency=1mo&includeAdjustedClose=true'\n",
    "\n",
    "spy_url = 'https://finance.yahoo.com/quote/SPY/history?period1=1534982400&period2=1692748800&interval=1mo&filter=history&frequency=1mo&includeAdjustedClose=true'\n",
    "\n",
    "qqq_url = 'https://finance.yahoo.com/quote/QQQ/history?period1=1534982400&period2=1692748800&interval=1mo&filter=history&frequency=1mo&includeAdjustedClose=true'"
   ]
  },
  {
   "cell_type": "code",
   "execution_count": 16,
   "id": "61bef3b7",
   "metadata": {},
   "outputs": [
    {
     "data": {
      "text/html": [
       "<div>\n",
       "<style scoped>\n",
       "    .dataframe tbody tr th:only-of-type {\n",
       "        vertical-align: middle;\n",
       "    }\n",
       "\n",
       "    .dataframe tbody tr th {\n",
       "        vertical-align: top;\n",
       "    }\n",
       "\n",
       "    .dataframe thead th {\n",
       "        text-align: right;\n",
       "    }\n",
       "</style>\n",
       "<table border=\"1\" class=\"dataframe\">\n",
       "  <thead>\n",
       "    <tr style=\"text-align: right;\">\n",
       "      <th></th>\n",
       "      <th>Date</th>\n",
       "      <th>Open</th>\n",
       "      <th>High</th>\n",
       "      <th>Low</th>\n",
       "      <th>Close</th>\n",
       "      <th>Adj. Close</th>\n",
       "      <th>Volume</th>\n",
       "    </tr>\n",
       "  </thead>\n",
       "  <tbody>\n",
       "    <tr>\n",
       "      <th>0</th>\n",
       "      <td>2023-08-01</td>\n",
       "      <td>317.54</td>\n",
       "      <td>324.14</td>\n",
       "      <td>274.38</td>\n",
       "      <td>295.89</td>\n",
       "      <td>295.89</td>\n",
       "      <td>423147800.0</td>\n",
       "    </tr>\n",
       "    <tr>\n",
       "      <th>1</th>\n",
       "      <td>2023-07-01</td>\n",
       "      <td>286.70</td>\n",
       "      <td>326.20</td>\n",
       "      <td>284.85</td>\n",
       "      <td>318.60</td>\n",
       "      <td>318.60</td>\n",
       "      <td>624605100.0</td>\n",
       "    </tr>\n",
       "    <tr>\n",
       "      <th>2</th>\n",
       "      <td>2023-06-01</td>\n",
       "      <td>265.90</td>\n",
       "      <td>289.79</td>\n",
       "      <td>258.88</td>\n",
       "      <td>286.98</td>\n",
       "      <td>286.98</td>\n",
       "      <td>480979900.0</td>\n",
       "    </tr>\n",
       "    <tr>\n",
       "      <th>...</th>\n",
       "      <td>...</td>\n",
       "      <td>...</td>\n",
       "      <td>...</td>\n",
       "      <td>...</td>\n",
       "      <td>...</td>\n",
       "      <td>...</td>\n",
       "      <td>...</td>\n",
       "    </tr>\n",
       "    <tr>\n",
       "      <th>57</th>\n",
       "      <td>2018-11-01</td>\n",
       "      <td>151.52</td>\n",
       "      <td>154.13</td>\n",
       "      <td>126.85</td>\n",
       "      <td>140.61</td>\n",
       "      <td>140.61</td>\n",
       "      <td>518151700.0</td>\n",
       "    </tr>\n",
       "    <tr>\n",
       "      <th>58</th>\n",
       "      <td>2018-10-01</td>\n",
       "      <td>163.03</td>\n",
       "      <td>165.88</td>\n",
       "      <td>139.03</td>\n",
       "      <td>151.79</td>\n",
       "      <td>151.79</td>\n",
       "      <td>622446300.0</td>\n",
       "    </tr>\n",
       "    <tr>\n",
       "      <th>59</th>\n",
       "      <td>2018-09-01</td>\n",
       "      <td>173.50</td>\n",
       "      <td>173.89</td>\n",
       "      <td>158.87</td>\n",
       "      <td>164.46</td>\n",
       "      <td>164.46</td>\n",
       "      <td>500468800.0</td>\n",
       "    </tr>\n",
       "  </tbody>\n",
       "</table>\n",
       "<p>60 rows × 7 columns</p>\n",
       "</div>"
      ],
      "text/plain": [
       "         Date    Open    High     Low   Close  Adj. Close       Volume\n",
       "0  2023-08-01  317.54  324.14  274.38  295.89      295.89  423147800.0\n",
       "1  2023-07-01  286.70  326.20  284.85  318.60      318.60  624605100.0\n",
       "2  2023-06-01  265.90  289.79  258.88  286.98      286.98  480979900.0\n",
       "..        ...     ...     ...     ...     ...         ...          ...\n",
       "57 2018-11-01  151.52  154.13  126.85  140.61      140.61  518151700.0\n",
       "58 2018-10-01  163.03  165.88  139.03  151.79      151.79  622446300.0\n",
       "59 2018-09-01  173.50  173.89  158.87  164.46      164.46  500468800.0\n",
       "\n",
       "[60 rows x 7 columns]"
      ]
     },
     "execution_count": 16,
     "metadata": {},
     "output_type": "execute_result"
    }
   ],
   "source": [
    "meta = create_df(meta_url); meta"
   ]
  },
  {
   "cell_type": "code",
   "execution_count": 17,
   "id": "6bcac897",
   "metadata": {},
   "outputs": [
    {
     "data": {
      "text/html": [
       "<div>\n",
       "<style scoped>\n",
       "    .dataframe tbody tr th:only-of-type {\n",
       "        vertical-align: middle;\n",
       "    }\n",
       "\n",
       "    .dataframe tbody tr th {\n",
       "        vertical-align: top;\n",
       "    }\n",
       "\n",
       "    .dataframe thead th {\n",
       "        text-align: right;\n",
       "    }\n",
       "</style>\n",
       "<table border=\"1\" class=\"dataframe\">\n",
       "  <thead>\n",
       "    <tr style=\"text-align: right;\">\n",
       "      <th></th>\n",
       "      <th>Date</th>\n",
       "      <th>Open</th>\n",
       "      <th>High</th>\n",
       "      <th>Low</th>\n",
       "      <th>Close</th>\n",
       "      <th>Adj. Close</th>\n",
       "      <th>Volume</th>\n",
       "    </tr>\n",
       "  </thead>\n",
       "  <tbody>\n",
       "    <tr>\n",
       "      <th>0</th>\n",
       "      <td>2023-08-01</td>\n",
       "      <td>133.55</td>\n",
       "      <td>143.63</td>\n",
       "      <td>126.41</td>\n",
       "      <td>138.01</td>\n",
       "      <td>138.01</td>\n",
       "      <td>1.210426e+09</td>\n",
       "    </tr>\n",
       "    <tr>\n",
       "      <th>1</th>\n",
       "      <td>2023-07-01</td>\n",
       "      <td>130.82</td>\n",
       "      <td>136.65</td>\n",
       "      <td>125.92</td>\n",
       "      <td>133.68</td>\n",
       "      <td>133.68</td>\n",
       "      <td>1.058755e+09</td>\n",
       "    </tr>\n",
       "    <tr>\n",
       "      <th>2</th>\n",
       "      <td>2023-06-01</td>\n",
       "      <td>120.69</td>\n",
       "      <td>131.49</td>\n",
       "      <td>119.93</td>\n",
       "      <td>130.36</td>\n",
       "      <td>130.36</td>\n",
       "      <td>1.242649e+09</td>\n",
       "    </tr>\n",
       "    <tr>\n",
       "      <th>...</th>\n",
       "      <td>...</td>\n",
       "      <td>...</td>\n",
       "      <td>...</td>\n",
       "      <td>...</td>\n",
       "      <td>...</td>\n",
       "      <td>...</td>\n",
       "      <td>...</td>\n",
       "    </tr>\n",
       "    <tr>\n",
       "      <th>57</th>\n",
       "      <td>2018-11-01</td>\n",
       "      <td>81.18</td>\n",
       "      <td>89.20</td>\n",
       "      <td>71.00</td>\n",
       "      <td>84.51</td>\n",
       "      <td>84.51</td>\n",
       "      <td>2.785800e+09</td>\n",
       "    </tr>\n",
       "    <tr>\n",
       "      <th>58</th>\n",
       "      <td>2018-10-01</td>\n",
       "      <td>101.10</td>\n",
       "      <td>101.66</td>\n",
       "      <td>73.82</td>\n",
       "      <td>79.90</td>\n",
       "      <td>79.90</td>\n",
       "      <td>3.664416e+09</td>\n",
       "    </tr>\n",
       "    <tr>\n",
       "      <th>59</th>\n",
       "      <td>2018-09-01</td>\n",
       "      <td>101.32</td>\n",
       "      <td>102.53</td>\n",
       "      <td>93.25</td>\n",
       "      <td>100.15</td>\n",
       "      <td>100.15</td>\n",
       "      <td>1.888910e+09</td>\n",
       "    </tr>\n",
       "  </tbody>\n",
       "</table>\n",
       "<p>60 rows × 7 columns</p>\n",
       "</div>"
      ],
      "text/plain": [
       "         Date    Open    High     Low   Close  Adj. Close        Volume\n",
       "0  2023-08-01  133.55  143.63  126.41  138.01      138.01  1.210426e+09\n",
       "1  2023-07-01  130.82  136.65  125.92  133.68      133.68  1.058755e+09\n",
       "2  2023-06-01  120.69  131.49  119.93  130.36      130.36  1.242649e+09\n",
       "..        ...     ...     ...     ...     ...         ...           ...\n",
       "57 2018-11-01   81.18   89.20   71.00   84.51       84.51  2.785800e+09\n",
       "58 2018-10-01  101.10  101.66   73.82   79.90       79.90  3.664416e+09\n",
       "59 2018-09-01  101.32  102.53   93.25  100.15      100.15  1.888910e+09\n",
       "\n",
       "[60 rows x 7 columns]"
      ]
     },
     "execution_count": 17,
     "metadata": {},
     "output_type": "execute_result"
    }
   ],
   "source": [
    "amzn = create_df(amzn_url); amzn"
   ]
  },
  {
   "cell_type": "code",
   "execution_count": 18,
   "id": "6c3229d6",
   "metadata": {},
   "outputs": [
    {
     "data": {
      "text/html": [
       "<div>\n",
       "<style scoped>\n",
       "    .dataframe tbody tr th:only-of-type {\n",
       "        vertical-align: middle;\n",
       "    }\n",
       "\n",
       "    .dataframe tbody tr th {\n",
       "        vertical-align: top;\n",
       "    }\n",
       "\n",
       "    .dataframe thead th {\n",
       "        text-align: right;\n",
       "    }\n",
       "</style>\n",
       "<table border=\"1\" class=\"dataframe\">\n",
       "  <thead>\n",
       "    <tr style=\"text-align: right;\">\n",
       "      <th></th>\n",
       "      <th>Date</th>\n",
       "      <th>Open</th>\n",
       "      <th>High</th>\n",
       "      <th>Low</th>\n",
       "      <th>Close</th>\n",
       "      <th>Adj. Close</th>\n",
       "      <th>Volume</th>\n",
       "    </tr>\n",
       "  </thead>\n",
       "  <tbody>\n",
       "    <tr>\n",
       "      <th>0</th>\n",
       "      <td>2023-08-01</td>\n",
       "      <td>196.24</td>\n",
       "      <td>196.73</td>\n",
       "      <td>171.96</td>\n",
       "      <td>187.87</td>\n",
       "      <td>187.62</td>\n",
       "      <td>1.322439e+09</td>\n",
       "    </tr>\n",
       "    <tr>\n",
       "      <th>1</th>\n",
       "      <td>2023-07-01</td>\n",
       "      <td>193.78</td>\n",
       "      <td>198.23</td>\n",
       "      <td>186.60</td>\n",
       "      <td>196.45</td>\n",
       "      <td>196.19</td>\n",
       "      <td>9.960664e+08</td>\n",
       "    </tr>\n",
       "    <tr>\n",
       "      <th>2</th>\n",
       "      <td>2023-06-01</td>\n",
       "      <td>177.70</td>\n",
       "      <td>194.48</td>\n",
       "      <td>176.93</td>\n",
       "      <td>193.97</td>\n",
       "      <td>193.71</td>\n",
       "      <td>1.297101e+09</td>\n",
       "    </tr>\n",
       "    <tr>\n",
       "      <th>...</th>\n",
       "      <td>...</td>\n",
       "      <td>...</td>\n",
       "      <td>...</td>\n",
       "      <td>...</td>\n",
       "      <td>...</td>\n",
       "      <td>...</td>\n",
       "      <td>...</td>\n",
       "    </tr>\n",
       "    <tr>\n",
       "      <th>57</th>\n",
       "      <td>2018-11-01</td>\n",
       "      <td>54.76</td>\n",
       "      <td>55.59</td>\n",
       "      <td>42.56</td>\n",
       "      <td>44.65</td>\n",
       "      <td>42.76</td>\n",
       "      <td>3.845306e+09</td>\n",
       "    </tr>\n",
       "    <tr>\n",
       "      <th>58</th>\n",
       "      <td>2018-10-01</td>\n",
       "      <td>56.99</td>\n",
       "      <td>58.37</td>\n",
       "      <td>51.52</td>\n",
       "      <td>54.72</td>\n",
       "      <td>52.40</td>\n",
       "      <td>3.158994e+09</td>\n",
       "    </tr>\n",
       "    <tr>\n",
       "      <th>59</th>\n",
       "      <td>2018-09-01</td>\n",
       "      <td>57.10</td>\n",
       "      <td>57.42</td>\n",
       "      <td>53.83</td>\n",
       "      <td>56.44</td>\n",
       "      <td>54.05</td>\n",
       "      <td>2.715888e+09</td>\n",
       "    </tr>\n",
       "  </tbody>\n",
       "</table>\n",
       "<p>60 rows × 7 columns</p>\n",
       "</div>"
      ],
      "text/plain": [
       "         Date    Open    High     Low   Close  Adj. Close        Volume\n",
       "0  2023-08-01  196.24  196.73  171.96  187.87      187.62  1.322439e+09\n",
       "1  2023-07-01  193.78  198.23  186.60  196.45      196.19  9.960664e+08\n",
       "2  2023-06-01  177.70  194.48  176.93  193.97      193.71  1.297101e+09\n",
       "..        ...     ...     ...     ...     ...         ...           ...\n",
       "57 2018-11-01   54.76   55.59   42.56   44.65       42.76  3.845306e+09\n",
       "58 2018-10-01   56.99   58.37   51.52   54.72       52.40  3.158994e+09\n",
       "59 2018-09-01   57.10   57.42   53.83   56.44       54.05  2.715888e+09\n",
       "\n",
       "[60 rows x 7 columns]"
      ]
     },
     "execution_count": 18,
     "metadata": {},
     "output_type": "execute_result"
    }
   ],
   "source": [
    "aapl = create_df(aapl_url); aapl"
   ]
  },
  {
   "cell_type": "code",
   "execution_count": 19,
   "id": "0ccb0ba5",
   "metadata": {},
   "outputs": [
    {
     "data": {
      "text/html": [
       "<div>\n",
       "<style scoped>\n",
       "    .dataframe tbody tr th:only-of-type {\n",
       "        vertical-align: middle;\n",
       "    }\n",
       "\n",
       "    .dataframe tbody tr th {\n",
       "        vertical-align: top;\n",
       "    }\n",
       "\n",
       "    .dataframe thead th {\n",
       "        text-align: right;\n",
       "    }\n",
       "</style>\n",
       "<table border=\"1\" class=\"dataframe\">\n",
       "  <thead>\n",
       "    <tr style=\"text-align: right;\">\n",
       "      <th></th>\n",
       "      <th>Date</th>\n",
       "      <th>Open</th>\n",
       "      <th>High</th>\n",
       "      <th>Low</th>\n",
       "      <th>Close</th>\n",
       "      <th>Adj. Close</th>\n",
       "      <th>Volume</th>\n",
       "    </tr>\n",
       "  </thead>\n",
       "  <tbody>\n",
       "    <tr>\n",
       "      <th>0</th>\n",
       "      <td>2023-08-01</td>\n",
       "      <td>437.37</td>\n",
       "      <td>445.25</td>\n",
       "      <td>398.15</td>\n",
       "      <td>433.68</td>\n",
       "      <td>433.68</td>\n",
       "      <td>107298900.0</td>\n",
       "    </tr>\n",
       "    <tr>\n",
       "      <th>1</th>\n",
       "      <td>2023-07-01</td>\n",
       "      <td>439.76</td>\n",
       "      <td>485.00</td>\n",
       "      <td>411.88</td>\n",
       "      <td>438.97</td>\n",
       "      <td>438.97</td>\n",
       "      <td>168720200.0</td>\n",
       "    </tr>\n",
       "    <tr>\n",
       "      <th>2</th>\n",
       "      <td>2023-06-01</td>\n",
       "      <td>397.41</td>\n",
       "      <td>448.65</td>\n",
       "      <td>393.08</td>\n",
       "      <td>440.49</td>\n",
       "      <td>440.49</td>\n",
       "      <td>147230800.0</td>\n",
       "    </tr>\n",
       "    <tr>\n",
       "      <th>...</th>\n",
       "      <td>...</td>\n",
       "      <td>...</td>\n",
       "      <td>...</td>\n",
       "      <td>...</td>\n",
       "      <td>...</td>\n",
       "      <td>...</td>\n",
       "      <td>...</td>\n",
       "    </tr>\n",
       "    <tr>\n",
       "      <th>57</th>\n",
       "      <td>2018-11-01</td>\n",
       "      <td>304.59</td>\n",
       "      <td>332.05</td>\n",
       "      <td>250.00</td>\n",
       "      <td>286.13</td>\n",
       "      <td>286.13</td>\n",
       "      <td>257126400.0</td>\n",
       "    </tr>\n",
       "    <tr>\n",
       "      <th>58</th>\n",
       "      <td>2018-10-01</td>\n",
       "      <td>375.85</td>\n",
       "      <td>386.80</td>\n",
       "      <td>271.21</td>\n",
       "      <td>301.78</td>\n",
       "      <td>301.78</td>\n",
       "      <td>363589800.0</td>\n",
       "    </tr>\n",
       "    <tr>\n",
       "      <th>59</th>\n",
       "      <td>2018-09-01</td>\n",
       "      <td>366.47</td>\n",
       "      <td>383.20</td>\n",
       "      <td>335.83</td>\n",
       "      <td>374.13</td>\n",
       "      <td>374.13</td>\n",
       "      <td>170832100.0</td>\n",
       "    </tr>\n",
       "  </tbody>\n",
       "</table>\n",
       "<p>60 rows × 7 columns</p>\n",
       "</div>"
      ],
      "text/plain": [
       "         Date    Open    High     Low   Close  Adj. Close       Volume\n",
       "0  2023-08-01  437.37  445.25  398.15  433.68      433.68  107298900.0\n",
       "1  2023-07-01  439.76  485.00  411.88  438.97      438.97  168720200.0\n",
       "2  2023-06-01  397.41  448.65  393.08  440.49      440.49  147230800.0\n",
       "..        ...     ...     ...     ...     ...         ...          ...\n",
       "57 2018-11-01  304.59  332.05  250.00  286.13      286.13  257126400.0\n",
       "58 2018-10-01  375.85  386.80  271.21  301.78      301.78  363589800.0\n",
       "59 2018-09-01  366.47  383.20  335.83  374.13      374.13  170832100.0\n",
       "\n",
       "[60 rows x 7 columns]"
      ]
     },
     "execution_count": 19,
     "metadata": {},
     "output_type": "execute_result"
    }
   ],
   "source": [
    "nflx = create_df(nflx_url); nflx"
   ]
  },
  {
   "cell_type": "code",
   "execution_count": 20,
   "id": "fba6e987",
   "metadata": {},
   "outputs": [
    {
     "data": {
      "text/html": [
       "<div>\n",
       "<style scoped>\n",
       "    .dataframe tbody tr th:only-of-type {\n",
       "        vertical-align: middle;\n",
       "    }\n",
       "\n",
       "    .dataframe tbody tr th {\n",
       "        vertical-align: top;\n",
       "    }\n",
       "\n",
       "    .dataframe thead th {\n",
       "        text-align: right;\n",
       "    }\n",
       "</style>\n",
       "<table border=\"1\" class=\"dataframe\">\n",
       "  <thead>\n",
       "    <tr style=\"text-align: right;\">\n",
       "      <th></th>\n",
       "      <th>Date</th>\n",
       "      <th>Open</th>\n",
       "      <th>High</th>\n",
       "      <th>Low</th>\n",
       "      <th>Close</th>\n",
       "      <th>Adj. Close</th>\n",
       "      <th>Volume</th>\n",
       "    </tr>\n",
       "  </thead>\n",
       "  <tbody>\n",
       "    <tr>\n",
       "      <th>0</th>\n",
       "      <td>2023-08-01</td>\n",
       "      <td>130.85</td>\n",
       "      <td>138.40</td>\n",
       "      <td>127.00</td>\n",
       "      <td>137.35</td>\n",
       "      <td>137.35</td>\n",
       "      <td>463482000.0</td>\n",
       "    </tr>\n",
       "    <tr>\n",
       "      <th>1</th>\n",
       "      <td>2023-07-01</td>\n",
       "      <td>120.32</td>\n",
       "      <td>134.07</td>\n",
       "      <td>115.83</td>\n",
       "      <td>133.11</td>\n",
       "      <td>133.11</td>\n",
       "      <td>525456900.0</td>\n",
       "    </tr>\n",
       "    <tr>\n",
       "      <th>2</th>\n",
       "      <td>2023-06-01</td>\n",
       "      <td>123.50</td>\n",
       "      <td>129.55</td>\n",
       "      <td>116.91</td>\n",
       "      <td>120.97</td>\n",
       "      <td>120.97</td>\n",
       "      <td>521386300.0</td>\n",
       "    </tr>\n",
       "    <tr>\n",
       "      <th>...</th>\n",
       "      <td>...</td>\n",
       "      <td>...</td>\n",
       "      <td>...</td>\n",
       "      <td>...</td>\n",
       "      <td>...</td>\n",
       "      <td>...</td>\n",
       "      <td>...</td>\n",
       "    </tr>\n",
       "    <tr>\n",
       "      <th>57</th>\n",
       "      <td>2018-11-01</td>\n",
       "      <td>53.79</td>\n",
       "      <td>54.78</td>\n",
       "      <td>49.80</td>\n",
       "      <td>54.72</td>\n",
       "      <td>54.72</td>\n",
       "      <td>734702000.0</td>\n",
       "    </tr>\n",
       "    <tr>\n",
       "      <th>58</th>\n",
       "      <td>2018-10-01</td>\n",
       "      <td>59.99</td>\n",
       "      <td>60.50</td>\n",
       "      <td>49.79</td>\n",
       "      <td>53.84</td>\n",
       "      <td>53.84</td>\n",
       "      <td>969894000.0</td>\n",
       "    </tr>\n",
       "    <tr>\n",
       "      <th>59</th>\n",
       "      <td>2018-09-01</td>\n",
       "      <td>60.21</td>\n",
       "      <td>60.65</td>\n",
       "      <td>57.35</td>\n",
       "      <td>59.67</td>\n",
       "      <td>59.67</td>\n",
       "      <td>577248000.0</td>\n",
       "    </tr>\n",
       "  </tbody>\n",
       "</table>\n",
       "<p>60 rows × 7 columns</p>\n",
       "</div>"
      ],
      "text/plain": [
       "         Date    Open    High     Low   Close  Adj. Close       Volume\n",
       "0  2023-08-01  130.85  138.40  127.00  137.35      137.35  463482000.0\n",
       "1  2023-07-01  120.32  134.07  115.83  133.11      133.11  525456900.0\n",
       "2  2023-06-01  123.50  129.55  116.91  120.97      120.97  521386300.0\n",
       "..        ...     ...     ...     ...     ...         ...          ...\n",
       "57 2018-11-01   53.79   54.78   49.80   54.72       54.72  734702000.0\n",
       "58 2018-10-01   59.99   60.50   49.79   53.84       53.84  969894000.0\n",
       "59 2018-09-01   60.21   60.65   57.35   59.67       59.67  577248000.0\n",
       "\n",
       "[60 rows x 7 columns]"
      ]
     },
     "execution_count": 20,
     "metadata": {},
     "output_type": "execute_result"
    }
   ],
   "source": [
    "goog = create_df(goog_url); goog"
   ]
  },
  {
   "cell_type": "code",
   "execution_count": 21,
   "id": "ec0f2cb6",
   "metadata": {},
   "outputs": [
    {
     "data": {
      "text/html": [
       "<div>\n",
       "<style scoped>\n",
       "    .dataframe tbody tr th:only-of-type {\n",
       "        vertical-align: middle;\n",
       "    }\n",
       "\n",
       "    .dataframe tbody tr th {\n",
       "        vertical-align: top;\n",
       "    }\n",
       "\n",
       "    .dataframe thead th {\n",
       "        text-align: right;\n",
       "    }\n",
       "</style>\n",
       "<table border=\"1\" class=\"dataframe\">\n",
       "  <thead>\n",
       "    <tr style=\"text-align: right;\">\n",
       "      <th></th>\n",
       "      <th>Date</th>\n",
       "      <th>Open</th>\n",
       "      <th>High</th>\n",
       "      <th>Low</th>\n",
       "      <th>Close</th>\n",
       "      <th>Adj. Close</th>\n",
       "      <th>Volume</th>\n",
       "    </tr>\n",
       "  </thead>\n",
       "  <tbody>\n",
       "    <tr>\n",
       "      <th>0</th>\n",
       "      <td>2023-08-01</td>\n",
       "      <td>456.27</td>\n",
       "      <td>457.25</td>\n",
       "      <td>433.01</td>\n",
       "      <td>450.35</td>\n",
       "      <td>448.77</td>\n",
       "      <td>1.754765e+09</td>\n",
       "    </tr>\n",
       "    <tr>\n",
       "      <th>1</th>\n",
       "      <td>2023-07-01</td>\n",
       "      <td>442.92</td>\n",
       "      <td>459.44</td>\n",
       "      <td>437.06</td>\n",
       "      <td>457.79</td>\n",
       "      <td>456.18</td>\n",
       "      <td>1.374632e+09</td>\n",
       "    </tr>\n",
       "    <tr>\n",
       "      <th>2</th>\n",
       "      <td>2023-06-01</td>\n",
       "      <td>418.09</td>\n",
       "      <td>444.30</td>\n",
       "      <td>416.79</td>\n",
       "      <td>443.28</td>\n",
       "      <td>440.09</td>\n",
       "      <td>1.749755e+09</td>\n",
       "    </tr>\n",
       "    <tr>\n",
       "      <th>...</th>\n",
       "      <td>...</td>\n",
       "      <td>...</td>\n",
       "      <td>...</td>\n",
       "      <td>...</td>\n",
       "      <td>...</td>\n",
       "      <td>...</td>\n",
       "      <td>...</td>\n",
       "    </tr>\n",
       "    <tr>\n",
       "      <th>57</th>\n",
       "      <td>2018-11-01</td>\n",
       "      <td>271.60</td>\n",
       "      <td>281.22</td>\n",
       "      <td>263.07</td>\n",
       "      <td>275.65</td>\n",
       "      <td>253.58</td>\n",
       "      <td>2.021061e+09</td>\n",
       "    </tr>\n",
       "    <tr>\n",
       "      <th>58</th>\n",
       "      <td>2018-10-01</td>\n",
       "      <td>292.11</td>\n",
       "      <td>293.21</td>\n",
       "      <td>259.85</td>\n",
       "      <td>270.63</td>\n",
       "      <td>248.96</td>\n",
       "      <td>3.024346e+09</td>\n",
       "    </tr>\n",
       "    <tr>\n",
       "      <th>59</th>\n",
       "      <td>2018-09-01</td>\n",
       "      <td>289.84</td>\n",
       "      <td>293.94</td>\n",
       "      <td>286.71</td>\n",
       "      <td>290.72</td>\n",
       "      <td>266.24</td>\n",
       "      <td>1.228103e+09</td>\n",
       "    </tr>\n",
       "  </tbody>\n",
       "</table>\n",
       "<p>60 rows × 7 columns</p>\n",
       "</div>"
      ],
      "text/plain": [
       "         Date    Open    High     Low   Close  Adj. Close        Volume\n",
       "0  2023-08-01  456.27  457.25  433.01  450.35      448.77  1.754765e+09\n",
       "1  2023-07-01  442.92  459.44  437.06  457.79      456.18  1.374632e+09\n",
       "2  2023-06-01  418.09  444.30  416.79  443.28      440.09  1.749755e+09\n",
       "..        ...     ...     ...     ...     ...         ...           ...\n",
       "57 2018-11-01  271.60  281.22  263.07  275.65      253.58  2.021061e+09\n",
       "58 2018-10-01  292.11  293.21  259.85  270.63      248.96  3.024346e+09\n",
       "59 2018-09-01  289.84  293.94  286.71  290.72      266.24  1.228103e+09\n",
       "\n",
       "[60 rows x 7 columns]"
      ]
     },
     "execution_count": 21,
     "metadata": {},
     "output_type": "execute_result"
    }
   ],
   "source": [
    "spy = create_df(spy_url); spy"
   ]
  },
  {
   "cell_type": "code",
   "execution_count": 22,
   "id": "028ff3a8",
   "metadata": {},
   "outputs": [
    {
     "data": {
      "text/html": [
       "<div>\n",
       "<style scoped>\n",
       "    .dataframe tbody tr th:only-of-type {\n",
       "        vertical-align: middle;\n",
       "    }\n",
       "\n",
       "    .dataframe tbody tr th {\n",
       "        vertical-align: top;\n",
       "    }\n",
       "\n",
       "    .dataframe thead th {\n",
       "        text-align: right;\n",
       "    }\n",
       "</style>\n",
       "<table border=\"1\" class=\"dataframe\">\n",
       "  <thead>\n",
       "    <tr style=\"text-align: right;\">\n",
       "      <th></th>\n",
       "      <th>Date</th>\n",
       "      <th>Open</th>\n",
       "      <th>High</th>\n",
       "      <th>Low</th>\n",
       "      <th>Close</th>\n",
       "      <th>Adj. Close</th>\n",
       "      <th>Volume</th>\n",
       "    </tr>\n",
       "  </thead>\n",
       "  <tbody>\n",
       "    <tr>\n",
       "      <th>0</th>\n",
       "      <td>2023-08-01</td>\n",
       "      <td>382.31</td>\n",
       "      <td>383.56</td>\n",
       "      <td>354.71</td>\n",
       "      <td>377.99</td>\n",
       "      <td>377.44</td>\n",
       "      <td>1.202220e+09</td>\n",
       "    </tr>\n",
       "    <tr>\n",
       "      <th>1</th>\n",
       "      <td>2023-07-01</td>\n",
       "      <td>370.07</td>\n",
       "      <td>387.98</td>\n",
       "      <td>363.41</td>\n",
       "      <td>383.68</td>\n",
       "      <td>383.13</td>\n",
       "      <td>9.749974e+08</td>\n",
       "    </tr>\n",
       "    <tr>\n",
       "      <th>2</th>\n",
       "      <td>2023-06-01</td>\n",
       "      <td>347.73</td>\n",
       "      <td>372.85</td>\n",
       "      <td>346.66</td>\n",
       "      <td>369.42</td>\n",
       "      <td>368.38</td>\n",
       "      <td>1.137710e+09</td>\n",
       "    </tr>\n",
       "    <tr>\n",
       "      <th>...</th>\n",
       "      <td>...</td>\n",
       "      <td>...</td>\n",
       "      <td>...</td>\n",
       "      <td>...</td>\n",
       "      <td>...</td>\n",
       "      <td>...</td>\n",
       "      <td>...</td>\n",
       "    </tr>\n",
       "    <tr>\n",
       "      <th>57</th>\n",
       "      <td>2018-11-01</td>\n",
       "      <td>170.07</td>\n",
       "      <td>175.58</td>\n",
       "      <td>157.13</td>\n",
       "      <td>169.37</td>\n",
       "      <td>163.83</td>\n",
       "      <td>1.152122e+09</td>\n",
       "    </tr>\n",
       "    <tr>\n",
       "      <th>58</th>\n",
       "      <td>2018-10-01</td>\n",
       "      <td>186.87</td>\n",
       "      <td>187.53</td>\n",
       "      <td>160.09</td>\n",
       "      <td>169.82</td>\n",
       "      <td>164.27</td>\n",
       "      <td>1.817071e+09</td>\n",
       "    </tr>\n",
       "    <tr>\n",
       "      <th>59</th>\n",
       "      <td>2018-09-01</td>\n",
       "      <td>186.08</td>\n",
       "      <td>186.49</td>\n",
       "      <td>180.44</td>\n",
       "      <td>185.79</td>\n",
       "      <td>179.39</td>\n",
       "      <td>6.455344e+08</td>\n",
       "    </tr>\n",
       "  </tbody>\n",
       "</table>\n",
       "<p>60 rows × 7 columns</p>\n",
       "</div>"
      ],
      "text/plain": [
       "         Date    Open    High     Low   Close  Adj. Close        Volume\n",
       "0  2023-08-01  382.31  383.56  354.71  377.99      377.44  1.202220e+09\n",
       "1  2023-07-01  370.07  387.98  363.41  383.68      383.13  9.749974e+08\n",
       "2  2023-06-01  347.73  372.85  346.66  369.42      368.38  1.137710e+09\n",
       "..        ...     ...     ...     ...     ...         ...           ...\n",
       "57 2018-11-01  170.07  175.58  157.13  169.37      163.83  1.152122e+09\n",
       "58 2018-10-01  186.87  187.53  160.09  169.82      164.27  1.817071e+09\n",
       "59 2018-09-01  186.08  186.49  180.44  185.79      179.39  6.455344e+08\n",
       "\n",
       "[60 rows x 7 columns]"
      ]
     },
     "execution_count": 22,
     "metadata": {},
     "output_type": "execute_result"
    }
   ],
   "source": [
    "qqq = create_df(qqq_url); qqq"
   ]
  },
  {
   "cell_type": "code",
   "execution_count": 23,
   "id": "30cb4aab",
   "metadata": {},
   "outputs": [
    {
     "data": {
      "text/html": [
       "<div>\n",
       "<style scoped>\n",
       "    .dataframe tbody tr th:only-of-type {\n",
       "        vertical-align: middle;\n",
       "    }\n",
       "\n",
       "    .dataframe tbody tr th {\n",
       "        vertical-align: top;\n",
       "    }\n",
       "\n",
       "    .dataframe thead th {\n",
       "        text-align: right;\n",
       "    }\n",
       "</style>\n",
       "<table border=\"1\" class=\"dataframe\">\n",
       "  <thead>\n",
       "    <tr style=\"text-align: right;\">\n",
       "      <th></th>\n",
       "      <th>meta</th>\n",
       "      <th>amzn</th>\n",
       "      <th>aapl</th>\n",
       "      <th>nflx</th>\n",
       "      <th>goog</th>\n",
       "      <th>spy</th>\n",
       "      <th>qqq</th>\n",
       "    </tr>\n",
       "    <tr>\n",
       "      <th>Date</th>\n",
       "      <th></th>\n",
       "      <th></th>\n",
       "      <th></th>\n",
       "      <th></th>\n",
       "      <th></th>\n",
       "      <th></th>\n",
       "      <th></th>\n",
       "    </tr>\n",
       "  </thead>\n",
       "  <tbody>\n",
       "    <tr>\n",
       "      <th>2023-08-01</th>\n",
       "      <td>295.89</td>\n",
       "      <td>138.01</td>\n",
       "      <td>187.62</td>\n",
       "      <td>433.68</td>\n",
       "      <td>137.35</td>\n",
       "      <td>448.77</td>\n",
       "      <td>377.44</td>\n",
       "    </tr>\n",
       "    <tr>\n",
       "      <th>2023-07-01</th>\n",
       "      <td>318.60</td>\n",
       "      <td>133.68</td>\n",
       "      <td>196.19</td>\n",
       "      <td>438.97</td>\n",
       "      <td>133.11</td>\n",
       "      <td>456.18</td>\n",
       "      <td>383.13</td>\n",
       "    </tr>\n",
       "    <tr>\n",
       "      <th>2023-06-01</th>\n",
       "      <td>286.98</td>\n",
       "      <td>130.36</td>\n",
       "      <td>193.71</td>\n",
       "      <td>440.49</td>\n",
       "      <td>120.97</td>\n",
       "      <td>440.09</td>\n",
       "      <td>368.38</td>\n",
       "    </tr>\n",
       "    <tr>\n",
       "      <th>...</th>\n",
       "      <td>...</td>\n",
       "      <td>...</td>\n",
       "      <td>...</td>\n",
       "      <td>...</td>\n",
       "      <td>...</td>\n",
       "      <td>...</td>\n",
       "      <td>...</td>\n",
       "    </tr>\n",
       "    <tr>\n",
       "      <th>2018-11-01</th>\n",
       "      <td>140.61</td>\n",
       "      <td>84.51</td>\n",
       "      <td>42.76</td>\n",
       "      <td>286.13</td>\n",
       "      <td>54.72</td>\n",
       "      <td>253.58</td>\n",
       "      <td>163.83</td>\n",
       "    </tr>\n",
       "    <tr>\n",
       "      <th>2018-10-01</th>\n",
       "      <td>151.79</td>\n",
       "      <td>79.90</td>\n",
       "      <td>52.40</td>\n",
       "      <td>301.78</td>\n",
       "      <td>53.84</td>\n",
       "      <td>248.96</td>\n",
       "      <td>164.27</td>\n",
       "    </tr>\n",
       "    <tr>\n",
       "      <th>2018-09-01</th>\n",
       "      <td>164.46</td>\n",
       "      <td>100.15</td>\n",
       "      <td>54.05</td>\n",
       "      <td>374.13</td>\n",
       "      <td>59.67</td>\n",
       "      <td>266.24</td>\n",
       "      <td>179.39</td>\n",
       "    </tr>\n",
       "  </tbody>\n",
       "</table>\n",
       "<p>60 rows × 7 columns</p>\n",
       "</div>"
      ],
      "text/plain": [
       "              meta    amzn    aapl    nflx    goog     spy     qqq\n",
       "Date                                                              \n",
       "2023-08-01  295.89  138.01  187.62  433.68  137.35  448.77  377.44\n",
       "2023-07-01  318.60  133.68  196.19  438.97  133.11  456.18  383.13\n",
       "2023-06-01  286.98  130.36  193.71  440.49  120.97  440.09  368.38\n",
       "...            ...     ...     ...     ...     ...     ...     ...\n",
       "2018-11-01  140.61   84.51   42.76  286.13   54.72  253.58  163.83\n",
       "2018-10-01  151.79   79.90   52.40  301.78   53.84  248.96  164.27\n",
       "2018-09-01  164.46  100.15   54.05  374.13   59.67  266.24  179.39\n",
       "\n",
       "[60 rows x 7 columns]"
      ]
     },
     "execution_count": 23,
     "metadata": {},
     "output_type": "execute_result"
    }
   ],
   "source": [
    "# gather all adjacent closes prices into one dataframe\n",
    "adj_close = pd.concat([meta['Date'], meta['Adj. Close'], amzn['Adj. Close'], aapl['Adj. Close'], nflx['Adj. Close'], goog['Adj. Close'], spy['Adj. Close'], qqq['Adj. Close']], axis=1)\n",
    "adj_close.columns = ['Date', 'meta', 'amzn', 'aapl', 'nflx', 'goog', 'spy', 'qqq']\n",
    "adj_close = adj_close.set_index('Date'); adj_close"
   ]
  },
  {
   "cell_type": "markdown",
   "id": "18dedd35",
   "metadata": {},
   "source": [
    "# Stock Data Visualization"
   ]
  },
  {
   "cell_type": "markdown",
   "id": "718fdc90",
   "metadata": {},
   "source": [
    "### Price Changes"
   ]
  },
  {
   "cell_type": "code",
   "execution_count": 24,
   "id": "6c38b520",
   "metadata": {},
   "outputs": [
    {
     "data": {
      "image/png": "[encoded data removed]",
      "text/plain": [
       "<Figure size 1800x800 with 1 Axes>"
      ]
     },
     "metadata": {},
     "output_type": "display_data"
    }
   ],
   "source": [
    "plt.figure(figsize = (18, 8))\n",
    "plt.plot(meta['Date'], meta['Open'], color='#F09EA7', label = 'META')\n",
    "plt.plot(amzn['Date'], amzn['Open'], color='#F6CA94', label = 'AMZN')\n",
    "plt.plot(aapl['Date'], aapl['Open'], color='#FAFABE', label = 'AAPL')\n",
    "plt.plot(nflx['Date'], nflx['Open'], color='#C1EBC0', label = 'NFLX')\n",
    "plt.plot(goog['Date'], goog['Open'], color='#C7CAFF', label = 'GOOG')\n",
    "plt.plot(spy['Date'], spy['Open'], color='#CDABEB', label = 'SPY')\n",
    "plt.plot(qqq['Date'], qqq['Open'], color='#F6C2F3', label = 'QQQ')\n",
    "\n",
    "\n",
    "plt.title(\"Price Changes Over Past 5 Years\", **{'fontname':'Georgia', 'size':'20'})\n",
    "plt.xlabel(\"Year\", **{'fontname':'Georgia', 'size':'20'})\n",
    "plt.ylabel(\"Price\", **{'fontname':'Georgia', 'size':'20'})\n",
    "plt.legend(title = '', loc = 'upper left', prop = {'family':'Georgia', 'size':'15'})\n",
    "plt.ylim(0)\n",
    "\n",
    "plt.xticks(**{'fontname':'Georgia'}, fontsize = '15')\n",
    "plt.yticks(**{'fontname':'Georgia'}, fontsize = '15')\n",
    "\n",
    "plt.grid()\n",
    "\n",
    "plt.show()"
   ]
  },
  {
   "cell_type": "markdown",
   "id": "1c71eac2",
   "metadata": {},
   "source": [
    "### Price Analysis\n",
    "\n",
    "#### Netflix stock has had the sharpest change in stock price, with a drastic dip in the middle of 2022. All other stocks have either stayed consistent in price, or have steadily increased at a slow pace."
   ]
  },
  {
   "cell_type": "markdown",
   "id": "dbc33c20",
   "metadata": {},
   "source": [
    "### Volume Changes"
   ]
  },
  {
   "cell_type": "code",
   "execution_count": 25,
   "id": "7feec3f5",
   "metadata": {},
   "outputs": [
    {
     "data": {
      "image/png": "[encoded data removed]",
      "text/plain": [
       "<Figure size 1800x800 with 1 Axes>"
      ]
     },
     "metadata": {},
     "output_type": "display_data"
    }
   ],
   "source": [
    "plt.figure(figsize = (18, 8))\n",
    "plt.plot(meta['Date'], meta['Volume'], color='#F09EA7', label = 'META')\n",
    "plt.plot(amzn['Date'], amzn['Volume'], color='#F6CA94', label = 'AMZN')\n",
    "plt.plot(aapl['Date'], aapl['Volume'], color='#FAFABE', label = 'AAPL')\n",
    "plt.plot(nflx['Date'], nflx['Volume'], color='#C1EBC0', label = 'NFLX')\n",
    "plt.plot(goog['Date'], goog['Volume'], color='#C7CAFF', label = 'GOOG')\n",
    "plt.plot(spy['Date'], spy['Volume'], color='#CDABEB', label = 'SPY')\n",
    "plt.plot(qqq['Date'], qqq['Volume'], color='#F6C2F3', label = 'QQQ')\n",
    "\n",
    "\n",
    "plt.title(\"Volume Changes Over Past 5 Years\", **{'fontname':'Georgia', 'size':'20'})\n",
    "plt.xlabel(\"Year\", **{'fontname':'Georgia', 'size':'20'})\n",
    "plt.ylabel(\"Volume\", **{'fontname':'Georgia', 'size':'20'})\n",
    "plt.legend(title = '', loc = 'upper left', prop = {'family':'Georgia', 'size':'15'})\n",
    "plt.ylim(0)\n",
    "\n",
    "plt.xticks(**{'fontname':'Georgia'}, fontsize = '15')\n",
    "plt.yticks(**{'fontname':'Georgia'}, fontsize = '15')\n",
    "\n",
    "plt.grid()\n",
    "\n",
    "plt.show()"
   ]
  },
  {
   "cell_type": "markdown",
   "id": "2bef6e0f",
   "metadata": {},
   "source": [
    "### Volume Analysis\n",
    "\n",
    "#### The volume trading for these stocks have fluctuated around the same margin, except for netflix stock, consistently remaining as the lowest volume of stock traded. "
   ]
  },
  {
   "cell_type": "markdown",
   "id": "1ac9892a",
   "metadata": {},
   "source": [
    "### Cumulative Monthly Returns"
   ]
  },
  {
   "cell_type": "code",
   "execution_count": 26,
   "id": "0d82fc80",
   "metadata": {},
   "outputs": [
    {
     "data": {
      "text/html": [
       "<div>\n",
       "<style scoped>\n",
       "    .dataframe tbody tr th:only-of-type {\n",
       "        vertical-align: middle;\n",
       "    }\n",
       "\n",
       "    .dataframe tbody tr th {\n",
       "        vertical-align: top;\n",
       "    }\n",
       "\n",
       "    .dataframe thead th {\n",
       "        text-align: right;\n",
       "    }\n",
       "</style>\n",
       "<table border=\"1\" class=\"dataframe\">\n",
       "  <thead>\n",
       "    <tr style=\"text-align: right;\">\n",
       "      <th></th>\n",
       "      <th>meta</th>\n",
       "      <th>amzn</th>\n",
       "      <th>aapl</th>\n",
       "      <th>nflx</th>\n",
       "      <th>goog</th>\n",
       "      <th>spy</th>\n",
       "      <th>qqq</th>\n",
       "    </tr>\n",
       "    <tr>\n",
       "      <th>Date</th>\n",
       "      <th></th>\n",
       "      <th></th>\n",
       "      <th></th>\n",
       "      <th></th>\n",
       "      <th></th>\n",
       "      <th></th>\n",
       "      <th></th>\n",
       "    </tr>\n",
       "  </thead>\n",
       "  <tbody>\n",
       "    <tr>\n",
       "      <th>2018-09-01</th>\n",
       "      <td>NaN</td>\n",
       "      <td>NaN</td>\n",
       "      <td>NaN</td>\n",
       "      <td>NaN</td>\n",
       "      <td>NaN</td>\n",
       "      <td>NaN</td>\n",
       "      <td>NaN</td>\n",
       "    </tr>\n",
       "    <tr>\n",
       "      <th>2018-10-01</th>\n",
       "      <td>-0.077040</td>\n",
       "      <td>-0.202197</td>\n",
       "      <td>-0.030527</td>\n",
       "      <td>-0.193382</td>\n",
       "      <td>-0.097704</td>\n",
       "      <td>-0.064904</td>\n",
       "      <td>-0.084286</td>\n",
       "    </tr>\n",
       "    <tr>\n",
       "      <th>2018-11-01</th>\n",
       "      <td>-0.145020</td>\n",
       "      <td>-0.156166</td>\n",
       "      <td>-0.208881</td>\n",
       "      <td>-0.235212</td>\n",
       "      <td>-0.082956</td>\n",
       "      <td>-0.047551</td>\n",
       "      <td>-0.086738</td>\n",
       "    </tr>\n",
       "    <tr>\n",
       "      <th>...</th>\n",
       "      <td>...</td>\n",
       "      <td>...</td>\n",
       "      <td>...</td>\n",
       "      <td>...</td>\n",
       "      <td>...</td>\n",
       "      <td>...</td>\n",
       "      <td>...</td>\n",
       "    </tr>\n",
       "    <tr>\n",
       "      <th>2023-06-01</th>\n",
       "      <td>0.744984</td>\n",
       "      <td>0.301648</td>\n",
       "      <td>2.583904</td>\n",
       "      <td>0.177372</td>\n",
       "      <td>1.027317</td>\n",
       "      <td>0.652982</td>\n",
       "      <td>1.053515</td>\n",
       "    </tr>\n",
       "    <tr>\n",
       "      <th>2023-07-01</th>\n",
       "      <td>0.937249</td>\n",
       "      <td>0.334798</td>\n",
       "      <td>2.629787</td>\n",
       "      <td>0.173309</td>\n",
       "      <td>1.230769</td>\n",
       "      <td>0.713416</td>\n",
       "      <td>1.135738</td>\n",
       "    </tr>\n",
       "    <tr>\n",
       "      <th>2023-08-01</th>\n",
       "      <td>0.799161</td>\n",
       "      <td>0.378033</td>\n",
       "      <td>2.471230</td>\n",
       "      <td>0.159169</td>\n",
       "      <td>1.301827</td>\n",
       "      <td>0.685584</td>\n",
       "      <td>1.104019</td>\n",
       "    </tr>\n",
       "  </tbody>\n",
       "</table>\n",
       "<p>60 rows × 7 columns</p>\n",
       "</div>"
      ],
      "text/plain": [
       "                meta      amzn      aapl      nflx      goog       spy  \\\n",
       "Date                                                                     \n",
       "2018-09-01       NaN       NaN       NaN       NaN       NaN       NaN   \n",
       "2018-10-01 -0.077040 -0.202197 -0.030527 -0.193382 -0.097704 -0.064904   \n",
       "2018-11-01 -0.145020 -0.156166 -0.208881 -0.235212 -0.082956 -0.047551   \n",
       "...              ...       ...       ...       ...       ...       ...   \n",
       "2023-06-01  0.744984  0.301648  2.583904  0.177372  1.027317  0.652982   \n",
       "2023-07-01  0.937249  0.334798  2.629787  0.173309  1.230769  0.713416   \n",
       "2023-08-01  0.799161  0.378033  2.471230  0.159169  1.301827  0.685584   \n",
       "\n",
       "                 qqq  \n",
       "Date                  \n",
       "2018-09-01       NaN  \n",
       "2018-10-01 -0.084286  \n",
       "2018-11-01 -0.086738  \n",
       "...              ...  \n",
       "2023-06-01  1.053515  \n",
       "2023-07-01  1.135738  \n",
       "2023-08-01  1.104019  \n",
       "\n",
       "[60 rows x 7 columns]"
      ]
     },
     "execution_count": 26,
     "metadata": {},
     "output_type": "execute_result"
    }
   ],
   "source": [
    "# determine the percent change between each month\n",
    "monthly_return = adj_close.sort_index(ascending = True)\n",
    "monthly_return[['meta', 'amzn', 'aapl', 'nflx', 'goog', 'spy', 'qqq']] = monthly_return[['meta', 'amzn', 'aapl', 'nflx', 'goog', 'spy', 'qqq']].pct_change()\n",
    "\n",
    "# determine the percent change cumulatively\n",
    "cum_monthlyret = (1 + monthly_return).cumprod() - 1; cum_monthlyret"
   ]
  },
  {
   "cell_type": "markdown",
   "id": "40c98122",
   "metadata": {},
   "source": [
    "#### Entire 5 Year Returns"
   ]
  },
  {
   "cell_type": "code",
   "execution_count": 27,
   "id": "19b0fbf3",
   "metadata": {},
   "outputs": [
    {
     "data": {
      "text/html": [
       "<div>\n",
       "<style scoped>\n",
       "    .dataframe tbody tr th:only-of-type {\n",
       "        vertical-align: middle;\n",
       "    }\n",
       "\n",
       "    .dataframe tbody tr th {\n",
       "        vertical-align: top;\n",
       "    }\n",
       "\n",
       "    .dataframe thead th {\n",
       "        text-align: right;\n",
       "    }\n",
       "</style>\n",
       "<table border=\"1\" class=\"dataframe\">\n",
       "  <thead>\n",
       "    <tr style=\"text-align: right;\">\n",
       "      <th></th>\n",
       "      <th>meta</th>\n",
       "      <th>amzn</th>\n",
       "      <th>aapl</th>\n",
       "      <th>nflx</th>\n",
       "      <th>goog</th>\n",
       "      <th>spy</th>\n",
       "      <th>qqq</th>\n",
       "    </tr>\n",
       "  </thead>\n",
       "  <tbody>\n",
       "    <tr>\n",
       "      <th>0</th>\n",
       "      <td>79.92%</td>\n",
       "      <td>37.80%</td>\n",
       "      <td>247.12%</td>\n",
       "      <td>15.92%</td>\n",
       "      <td>130.18%</td>\n",
       "      <td>68.56%</td>\n",
       "      <td>110.40%</td>\n",
       "    </tr>\n",
       "  </tbody>\n",
       "</table>\n",
       "</div>"
      ],
      "text/plain": [
       "     meta    amzn     aapl    nflx     goog     spy      qqq\n",
       "0  79.92%  37.80%  247.12%  15.92%  130.18%  68.56%  110.40%"
      ]
     },
     "execution_count": 27,
     "metadata": {},
     "output_type": "execute_result"
    }
   ],
   "source": [
    "yr_returns = cum_monthlyret.iloc[:, 0:].tail(1).reset_index(drop=True) * 100; yr_returns.round(2).applymap(lambda x: '{:.2%}'.format(x / 100))"
   ]
  },
  {
   "cell_type": "markdown",
   "id": "c3fac8e5",
   "metadata": {},
   "source": [
    "#### Visualize Cumulative Monthly Returns"
   ]
  },
  {
   "cell_type": "code",
   "execution_count": 28,
   "id": "52683ce5",
   "metadata": {},
   "outputs": [
    {
     "data": {
      "application/vnd.plotly.v1+json": {
       "config": {
        "plotlyServerURL": "https://plot.ly"
       },
       "data": [
        {
         "hovertemplate": "Stock=meta<br>Cumulative Monthly Returns (%)=%{x}<br>Cumulative Monthly Return=%{y}<extra></extra>",
         "legendgroup": "meta",
         "line": {
          "color": "#F09EA7",
          "dash": "solid"
         },
         "marker": {
          "symbol": "circle"
         },
         "mode": "lines",
         "name": "meta",
         "orientation": "v",
         "showlegend": true,
         "type": "scatter",
         "x": [
          "2018-09-01T00:00:00",
          "2018-10-01T00:00:00",
          "2018-11-01T00:00:00",
          "2018-12-01T00:00:00",
          "2019-01-01T00:00:00",
          "2019-02-01T00:00:00",
          "2019-03-01T00:00:00",
          "2019-04-01T00:00:00",
          "2019-05-01T00:00:00",
          "2019-06-01T00:00:00",
          "2019-07-01T00:00:00",
          "2019-08-01T00:00:00",
          "2019-09-01T00:00:00",
          "2019-10-01T00:00:00",
          "2019-11-01T00:00:00",
          "2019-12-01T00:00:00",
          "2020-01-01T00:00:00",
          "2020-02-01T00:00:00",
          "2020-03-01T00:00:00",
          "2020-04-01T00:00:00",
          "2020-05-01T00:00:00",
          "2020-06-01T00:00:00",
          "2020-07-01T00:00:00",
          "2020-08-01T00:00:00",
          "2020-09-01T00:00:00",
          "2020-10-01T00:00:00",
          "2020-11-01T00:00:00",
          "2020-12-01T00:00:00",
          "2021-01-01T00:00:00",
          "2021-02-01T00:00:00",
          "2021-03-01T00:00:00",
          "2021-04-01T00:00:00",
          "2021-05-01T00:00:00",
          "2021-06-01T00:00:00",
          "2021-07-01T00:00:00",
          "2021-08-01T00:00:00",
          "2021-09-01T00:00:00",
          "2021-10-01T00:00:00",
          "2021-11-01T00:00:00",
          "2021-12-01T00:00:00",
          "2022-01-01T00:00:00",
          "2022-02-01T00:00:00",
          "2022-03-01T00:00:00",
          "2022-04-01T00:00:00",
          "2022-05-01T00:00:00",
          "2022-06-01T00:00:00",
          "2022-07-01T00:00:00",
          "2022-08-01T00:00:00",
          "2022-09-01T00:00:00",
          "2022-10-01T00:00:00",
          "2022-11-01T00:00:00",
          "2022-12-01T00:00:00",
          "2023-01-01T00:00:00",
          "2023-02-01T00:00:00",
          "2023-03-01T00:00:00",
          "2023-04-01T00:00:00",
          "2023-05-01T00:00:00",
          "2023-06-01T00:00:00",
          "2023-07-01T00:00:00",
          "2023-08-01T00:00:00"
         ],
         "xaxis": "x",
         "y": [
          null,
          -7.704000972880953,
          -14.502006566946369,
          -20.290648181928738,
          1.3559528152742306,
          -1.8302322753253164,
          1.3559528152742306,
          17.59698406907455,
          7.910738173416032,
          17.353763833150925,
          18.101666058616072,
          12.896753009850425,
          8.281649033199589,
          16.53289553690871,
          22.607320929101338,
          24.8023835583121,
          22.771494588349796,
          17.031497020552155,
          1.4228383801532685,
          24.474036239815188,
          36.866107260124096,
          38.070047427946065,
          54.244193116867365,
          78.28043293202,
          59.248449470996036,
          59.98419068466503,
          68.41177185941878,
          66.09509911224623,
          57.077708865377666,
          56.645992946613234,
          79.08914021646606,
          97.66508573513323,
          99.8844703879364,
          111.42527058251255,
          116.6484251489725,
          130.68223276176587,
          106.36628967530103,
          96.74692934452152,
          97.28809436945158,
          104.51781588228148,
          90.47792776359,
          28.31691596740853,
          35.20612914994532,
          21.895901739024715,
          17.742916210628735,
          -1.9518423932871065,
          -3.2591511613766166,
          -0.9303174024078542,
          -17.499695974705077,
          -43.35400705338684,
          -28.189225343548564,
          -26.827192022376234,
          -9.418703636142489,
          6.372370181199116,
          28.870242004134774,
          46.126717742916234,
          60.963152134257626,
          74.49835826340757,
          93.72491791317043,
          79.91608901860639
         ],
         "yaxis": "y"
        },
        {
         "hovertemplate": "Stock=amzn<br>Cumulative Monthly Returns (%)=%{x}<br>Cumulative Monthly Return=%{y}<extra></extra>",
         "legendgroup": "amzn",
         "line": {
          "color": "#F6CA94",
          "dash": "solid"
         },
         "marker": {
          "symbol": "circle"
         },
         "mode": "lines",
         "name": "amzn",
         "orientation": "v",
         "showlegend": true,
         "type": "scatter",
         "x": [
          "2018-09-01T00:00:00",
          "2018-10-01T00:00:00",
          "2018-11-01T00:00:00",
          "2018-12-01T00:00:00",
          "2019-01-01T00:00:00",
          "2019-02-01T00:00:00",
          "2019-03-01T00:00:00",
          "2019-04-01T00:00:00",
          "2019-05-01T00:00:00",
          "2019-06-01T00:00:00",
          "2019-07-01T00:00:00",
          "2019-08-01T00:00:00",
          "2019-09-01T00:00:00",
          "2019-10-01T00:00:00",
          "2019-11-01T00:00:00",
          "2019-12-01T00:00:00",
          "2020-01-01T00:00:00",
          "2020-02-01T00:00:00",
          "2020-03-01T00:00:00",
          "2020-04-01T00:00:00",
          "2020-05-01T00:00:00",
          "2020-06-01T00:00:00",
          "2020-07-01T00:00:00",
          "2020-08-01T00:00:00",
          "2020-09-01T00:00:00",
          "2020-10-01T00:00:00",
          "2020-11-01T00:00:00",
          "2020-12-01T00:00:00",
          "2021-01-01T00:00:00",
          "2021-02-01T00:00:00",
          "2021-03-01T00:00:00",
          "2021-04-01T00:00:00",
          "2021-05-01T00:00:00",
          "2021-06-01T00:00:00",
          "2021-07-01T00:00:00",
          "2021-08-01T00:00:00",
          "2021-09-01T00:00:00",
          "2021-10-01T00:00:00",
          "2021-11-01T00:00:00",
          "2021-12-01T00:00:00",
          "2022-01-01T00:00:00",
          "2022-02-01T00:00:00",
          "2022-03-01T00:00:00",
          "2022-04-01T00:00:00",
          "2022-05-01T00:00:00",
          "2022-06-01T00:00:00",
          "2022-07-01T00:00:00",
          "2022-08-01T00:00:00",
          "2022-09-01T00:00:00",
          "2022-10-01T00:00:00",
          "2022-11-01T00:00:00",
          "2022-12-01T00:00:00",
          "2023-01-01T00:00:00",
          "2023-02-01T00:00:00",
          "2023-03-01T00:00:00",
          "2023-04-01T00:00:00",
          "2023-05-01T00:00:00",
          "2023-06-01T00:00:00",
          "2023-07-01T00:00:00",
          "2023-08-01T00:00:00"
         ],
         "xaxis": "x",
         "y": [
          null,
          -20.21967049425861,
          -15.616575137294063,
          -25.012481278082888,
          -14.188716924613098,
          -18.132800798801817,
          -11.093359960059923,
          -3.814278582126829,
          -11.38292561158265,
          -5.461807289066423,
          -6.799800299550696,
          -11.323015476784848,
          -13.330004992511258,
          -11.303045431852244,
          -10.09485771342986,
          -7.748377433849241,
          0.2895656515226941,
          -5.95107338991514,
          -2.6560159760359636,
          23.51472790813778,
          21.937094358462296,
          37.73339990014974,
          57.99301048427357,
          72.291562656016,
          57.204193709435856,
          51.582626060908645,
          58.1627558662007,
          62.60609086370443,
          60.069895157264106,
          54.418372441338,
          54.46829755366949,
          73.11033449825261,
          60.90863704443335,
          71.75237144283572,
          66.13080379430853,
          73.28007988017973,
          64.00399400898652,
          68.36744882675987,
          75.08736894658013,
          66.47029455816276,
          49.34598102845731,
          53.33000499251121,
          62.755866200698954,
          24.093859211183233,
          20.02995506739891,
          6.05092361457813,
          34.74787818272591,
          26.580129805292053,
          12.83075386919621,
          2.286570144782818,
          -3.6045931103344975,
          -16.125811283075397,
          2.975536694957537,
          -5.911133300049942,
          3.1352970544183734,
          5.292061907139289,
          20.39940089865202,
          30.164752870693956,
          33.479780329505736,
          37.80329505741386
         ],
         "yaxis": "y"
        },
        {
         "hovertemplate": "Stock=aapl<br>Cumulative Monthly Returns (%)=%{x}<br>Cumulative Monthly Return=%{y}<extra></extra>",
         "legendgroup": "aapl",
         "line": {
          "color": "#FAFABE",
          "dash": "solid"
         },
         "marker": {
          "symbol": "circle"
         },
         "mode": "lines",
         "name": "aapl",
         "orientation": "v",
         "showlegend": true,
         "type": "scatter",
         "x": [
          "2018-09-01T00:00:00",
          "2018-10-01T00:00:00",
          "2018-11-01T00:00:00",
          "2018-12-01T00:00:00",
          "2019-01-01T00:00:00",
          "2019-02-01T00:00:00",
          "2019-03-01T00:00:00",
          "2019-04-01T00:00:00",
          "2019-05-01T00:00:00",
          "2019-06-01T00:00:00",
          "2019-07-01T00:00:00",
          "2019-08-01T00:00:00",
          "2019-09-01T00:00:00",
          "2019-10-01T00:00:00",
          "2019-11-01T00:00:00",
          "2019-12-01T00:00:00",
          "2020-01-01T00:00:00",
          "2020-02-01T00:00:00",
          "2020-03-01T00:00:00",
          "2020-04-01T00:00:00",
          "2020-05-01T00:00:00",
          "2020-06-01T00:00:00",
          "2020-07-01T00:00:00",
          "2020-08-01T00:00:00",
          "2020-09-01T00:00:00",
          "2020-10-01T00:00:00",
          "2020-11-01T00:00:00",
          "2020-12-01T00:00:00",
          "2021-01-01T00:00:00",
          "2021-02-01T00:00:00",
          "2021-03-01T00:00:00",
          "2021-04-01T00:00:00",
          "2021-05-01T00:00:00",
          "2021-06-01T00:00:00",
          "2021-07-01T00:00:00",
          "2021-08-01T00:00:00",
          "2021-09-01T00:00:00",
          "2021-10-01T00:00:00",
          "2021-11-01T00:00:00",
          "2021-12-01T00:00:00",
          "2022-01-01T00:00:00",
          "2022-02-01T00:00:00",
          "2022-03-01T00:00:00",
          "2022-04-01T00:00:00",
          "2022-05-01T00:00:00",
          "2022-06-01T00:00:00",
          "2022-07-01T00:00:00",
          "2022-08-01T00:00:00",
          "2022-09-01T00:00:00",
          "2022-10-01T00:00:00",
          "2022-11-01T00:00:00",
          "2022-12-01T00:00:00",
          "2023-01-01T00:00:00",
          "2023-02-01T00:00:00",
          "2023-03-01T00:00:00",
          "2023-04-01T00:00:00",
          "2023-05-01T00:00:00",
          "2023-06-01T00:00:00",
          "2023-07-01T00:00:00",
          "2023-08-01T00:00:00"
         ],
         "xaxis": "x",
         "y": [
          null,
          -3.052728954671602,
          -20.88806660499538,
          -29.879740980573544,
          -26.012950971322844,
          -23.03422756706752,
          -15.208140610545783,
          -10.41628122109156,
          -21.850138760407013,
          -11.304347826086946,
          -4.532839962997215,
          -6.456984273820532,
          0.7585568917668928,
          11.914893617021294,
          20.222016651248854,
          32.50693802035152,
          39.64847363552266,
          23.34875115633672,
          15.004625346901012,
          32.87696577243291,
          43.79278445883439,
          65.43940795559664,
          92.76595744680849,
          134.07955596669746,
          110.45328399629967,
          97.83533765032372,
          116.35522664199809,
          141.55411655874187,
          140.2220166512488,
          120.74005550416275,
          122.70120259019421,
          139.66697502312667,
          127.17853839037923,
          150.12025901942638,
          166.38297872340414,
          177.28029602220155,
          158.79740980573533,
          173.98704902867706,
          202.33117483811273,
          225.25439407955585,
          220.12950971322834,
          202.44218316373716,
          220.24051803885277,
          189.12118408880656,
          172.96947271045315,
          151.11933395004615,
          198.48288621646617,
          188.76965772432928,
          154.17206290471776,
          182.03515263644766,
          172.26641998149853,
          139.37095282146154,
          165.82793709528207,
          171.56336725254388,
          204.25531914893605,
          213.08048103607763,
          227.04902867715074,
          258.3903792784459,
          262.97872340425533,
          247.12303422756708
         ],
         "yaxis": "y"
        },
        {
         "hovertemplate": "Stock=nflx<br>Cumulative Monthly Returns (%)=%{x}<br>Cumulative Monthly Return=%{y}<extra></extra>",
         "legendgroup": "nflx",
         "line": {
          "color": "#C1EBC0",
          "dash": "solid"
         },
         "marker": {
          "symbol": "circle"
         },
         "mode": "lines",
         "name": "nflx",
         "orientation": "v",
         "showlegend": true,
         "type": "scatter",
         "x": [
          "2018-09-01T00:00:00",
          "2018-10-01T00:00:00",
          "2018-11-01T00:00:00",
          "2018-12-01T00:00:00",
          "2019-01-01T00:00:00",
          "2019-02-01T00:00:00",
          "2019-03-01T00:00:00",
          "2019-04-01T00:00:00",
          "2019-05-01T00:00:00",
          "2019-06-01T00:00:00",
          "2019-07-01T00:00:00",
          "2019-08-01T00:00:00",
          "2019-09-01T00:00:00",
          "2019-10-01T00:00:00",
          "2019-11-01T00:00:00",
          "2019-12-01T00:00:00",
          "2020-01-01T00:00:00",
          "2020-02-01T00:00:00",
          "2020-03-01T00:00:00",
          "2020-04-01T00:00:00",
          "2020-05-01T00:00:00",
          "2020-06-01T00:00:00",
          "2020-07-01T00:00:00",
          "2020-08-01T00:00:00",
          "2020-09-01T00:00:00",
          "2020-10-01T00:00:00",
          "2020-11-01T00:00:00",
          "2020-12-01T00:00:00",
          "2021-01-01T00:00:00",
          "2021-02-01T00:00:00",
          "2021-03-01T00:00:00",
          "2021-04-01T00:00:00",
          "2021-05-01T00:00:00",
          "2021-06-01T00:00:00",
          "2021-07-01T00:00:00",
          "2021-08-01T00:00:00",
          "2021-09-01T00:00:00",
          "2021-10-01T00:00:00",
          "2021-11-01T00:00:00",
          "2021-12-01T00:00:00",
          "2022-01-01T00:00:00",
          "2022-02-01T00:00:00",
          "2022-03-01T00:00:00",
          "2022-04-01T00:00:00",
          "2022-05-01T00:00:00",
          "2022-06-01T00:00:00",
          "2022-07-01T00:00:00",
          "2022-08-01T00:00:00",
          "2022-09-01T00:00:00",
          "2022-10-01T00:00:00",
          "2022-11-01T00:00:00",
          "2022-12-01T00:00:00",
          "2023-01-01T00:00:00",
          "2023-02-01T00:00:00",
          "2023-03-01T00:00:00",
          "2023-04-01T00:00:00",
          "2023-05-01T00:00:00",
          "2023-06-01T00:00:00",
          "2023-07-01T00:00:00",
          "2023-08-01T00:00:00"
         ],
         "xaxis": "x",
         "y": [
          null,
          -19.338197952583336,
          -23.521235934033623,
          -28.458022612460898,
          -9.256140913586176,
          -4.284606954801795,
          -4.696228583647388,
          -0.9595595113997768,
          -8.24579691551065,
          -1.820222917167813,
          -13.669045518937251,
          -21.484510731563887,
          -28.468714083340007,
          -23.179108865902222,
          -15.895544329511125,
          -13.51401919119023,
          -7.7620078582311125,
          -1.36316253708606,
          0.36618287760936674,
          12.22035121481837,
          12.188276802181065,
          21.626172720712056,
          30.671157084435883,
          41.54438296848688,
          33.65140459198675,
          27.159008900649507,
          31.157619009435212,
          44.5299762114773,
          42.30080453318364,
          44.02747708015929,
          39.43281746986338,
          37.2437388073664,
          34.39446181808459,
          41.18354582631702,
          38.33961457247479,
          52.13695774196132,
          63.13580840884183,
          84.51073156389488,
          71.57137893245662,
          61.024242910218376,
          14.168871782535476,
          5.449977280624374,
          0.1229519151097147,
          -49.119290086333635,
          -47.226899740731845,
          -53.25956218426751,
          -39.88720498222544,
          -40.2453692566755,
          -37.07000240558096,
          -21.984336995162135,
          -18.335872557667155,
          -21.18247667922917,
          -5.417902867987079,
          -13.898912142838071,
          -7.657766017159817,
          -11.814075321412354,
          5.639750888728501,
          17.737150188437134,
          17.33087429503111,
          15.916927271269298
         ],
         "yaxis": "y"
        },
        {
         "hovertemplate": "Stock=goog<br>Cumulative Monthly Returns (%)=%{x}<br>Cumulative Monthly Return=%{y}<extra></extra>",
         "legendgroup": "goog",
         "line": {
          "color": "#C7CAFF",
          "dash": "solid"
         },
         "marker": {
          "symbol": "circle"
         },
         "mode": "lines",
         "name": "goog",
         "orientation": "v",
         "showlegend": true,
         "type": "scatter",
         "x": [
          "2018-09-01T00:00:00",
          "2018-10-01T00:00:00",
          "2018-11-01T00:00:00",
          "2018-12-01T00:00:00",
          "2019-01-01T00:00:00",
          "2019-02-01T00:00:00",
          "2019-03-01T00:00:00",
          "2019-04-01T00:00:00",
          "2019-05-01T00:00:00",
          "2019-06-01T00:00:00",
          "2019-07-01T00:00:00",
          "2019-08-01T00:00:00",
          "2019-09-01T00:00:00",
          "2019-10-01T00:00:00",
          "2019-11-01T00:00:00",
          "2019-12-01T00:00:00",
          "2020-01-01T00:00:00",
          "2020-02-01T00:00:00",
          "2020-03-01T00:00:00",
          "2020-04-01T00:00:00",
          "2020-05-01T00:00:00",
          "2020-06-01T00:00:00",
          "2020-07-01T00:00:00",
          "2020-08-01T00:00:00",
          "2020-09-01T00:00:00",
          "2020-10-01T00:00:00",
          "2020-11-01T00:00:00",
          "2020-12-01T00:00:00",
          "2021-01-01T00:00:00",
          "2021-02-01T00:00:00",
          "2021-03-01T00:00:00",
          "2021-04-01T00:00:00",
          "2021-05-01T00:00:00",
          "2021-06-01T00:00:00",
          "2021-07-01T00:00:00",
          "2021-08-01T00:00:00",
          "2021-09-01T00:00:00",
          "2021-10-01T00:00:00",
          "2021-11-01T00:00:00",
          "2021-12-01T00:00:00",
          "2022-01-01T00:00:00",
          "2022-02-01T00:00:00",
          "2022-03-01T00:00:00",
          "2022-04-01T00:00:00",
          "2022-05-01T00:00:00",
          "2022-06-01T00:00:00",
          "2022-07-01T00:00:00",
          "2022-08-01T00:00:00",
          "2022-09-01T00:00:00",
          "2022-10-01T00:00:00",
          "2022-11-01T00:00:00",
          "2022-12-01T00:00:00",
          "2023-01-01T00:00:00",
          "2023-02-01T00:00:00",
          "2023-03-01T00:00:00",
          "2023-04-01T00:00:00",
          "2023-05-01T00:00:00",
          "2023-06-01T00:00:00",
          "2023-07-01T00:00:00",
          "2023-08-01T00:00:00"
         ],
         "xaxis": "x",
         "y": [
          null,
          -9.77040388805095,
          -8.29562594268477,
          -13.222724987430867,
          -6.452153510977043,
          -6.150494385788507,
          -1.675884028825203,
          -0.41897100720630354,
          -7.524719289425175,
          -9.418468241997669,
          1.9440254734372164,
          -0.452488687782826,
          2.1451315568962404,
          5.597452656276136,
          9.351432880844591,
          12.032847326964902,
          20.177643707055392,
          12.233953410423947,
          -2.5641025641026105,
          13.004860063683555,
          19.741913859560878,
          18.451483157365487,
          24.266800737388962,
          36.93648399530749,
          23.143958438076062,
          35.83040053628286,
          47.544829897771066,
          46.79068208479973,
          53.829395005865585,
          70.6720294955589,
          73.33668510139097,
          101.96078431372548,
          102.07809619574326,
          110.02178649237476,
          126.61303837774427,
          143.77409083291442,
          123.34506452153518,
          148.48332495391327,
          138.7296799061505,
          142.46690129043077,
          127.41746271158041,
          126.059996648232,
          134.03720462543998,
          92.67638679403387,
          91.11781464722644,
          83.29143623261271,
          95.47511312217193,
          82.92274174627117,
          61.13624937154349,
          58.63918216859392,
          70.01843472431707,
          48.701189877660475,
          67.37053795877326,
          51.33232780291603,
          74.29193899782136,
          81.36416959946374,
          106.7538126361656,
          102.73169096698508,
          123.07692307692312,
          130.18267135914198
         ],
         "yaxis": "y"
        },
        {
         "hovertemplate": "Stock=spy<br>Cumulative Monthly Returns (%)=%{x}<br>Cumulative Monthly Return=%{y}<extra></extra>",
         "legendgroup": "spy",
         "line": {
          "color": "#CDABEB",
          "dash": "solid"
         },
         "marker": {
          "symbol": "circle"
         },
         "mode": "lines",
         "name": "spy",
         "orientation": "v",
         "showlegend": true,
         "type": "scatter",
         "x": [
          "2018-09-01T00:00:00",
          "2018-10-01T00:00:00",
          "2018-11-01T00:00:00",
          "2018-12-01T00:00:00",
          "2019-01-01T00:00:00",
          "2019-02-01T00:00:00",
          "2019-03-01T00:00:00",
          "2019-04-01T00:00:00",
          "2019-05-01T00:00:00",
          "2019-06-01T00:00:00",
          "2019-07-01T00:00:00",
          "2019-08-01T00:00:00",
          "2019-09-01T00:00:00",
          "2019-10-01T00:00:00",
          "2019-11-01T00:00:00",
          "2019-12-01T00:00:00",
          "2020-01-01T00:00:00",
          "2020-02-01T00:00:00",
          "2020-03-01T00:00:00",
          "2020-04-01T00:00:00",
          "2020-05-01T00:00:00",
          "2020-06-01T00:00:00",
          "2020-07-01T00:00:00",
          "2020-08-01T00:00:00",
          "2020-09-01T00:00:00",
          "2020-10-01T00:00:00",
          "2020-11-01T00:00:00",
          "2020-12-01T00:00:00",
          "2021-01-01T00:00:00",
          "2021-02-01T00:00:00",
          "2021-03-01T00:00:00",
          "2021-04-01T00:00:00",
          "2021-05-01T00:00:00",
          "2021-06-01T00:00:00",
          "2021-07-01T00:00:00",
          "2021-08-01T00:00:00",
          "2021-09-01T00:00:00",
          "2021-10-01T00:00:00",
          "2021-11-01T00:00:00",
          "2021-12-01T00:00:00",
          "2022-01-01T00:00:00",
          "2022-02-01T00:00:00",
          "2022-03-01T00:00:00",
          "2022-04-01T00:00:00",
          "2022-05-01T00:00:00",
          "2022-06-01T00:00:00",
          "2022-07-01T00:00:00",
          "2022-08-01T00:00:00",
          "2022-09-01T00:00:00",
          "2022-10-01T00:00:00",
          "2022-11-01T00:00:00",
          "2022-12-01T00:00:00",
          "2023-01-01T00:00:00",
          "2023-02-01T00:00:00",
          "2023-03-01T00:00:00",
          "2023-04-01T00:00:00",
          "2023-05-01T00:00:00",
          "2023-06-01T00:00:00",
          "2023-07-01T00:00:00",
          "2023-08-01T00:00:00"
         ],
         "xaxis": "x",
         "y": [
          null,
          -6.490384615384615,
          -4.755108173076927,
          -13.645582932692314,
          -6.186147836538458,
          -3.147536057692313,
          -1.8254206730769384,
          2.636718749999978,
          -3.9100060096153966,
          2.279897836538436,
          4.330679086538414,
          2.5841346153845812,
          4.097806490384559,
          6.892277644230704,
          10.760967548076849,
          13.420222355769162,
          13.931039663461453,
          4.912860576922995,
          -8.725210336538524,
          3.47055288461533,
          8.40219350961533,
          9.84074519230762,
          16.819411057692225,
          24.973707932692225,
          19.81670673076914,
          17.29642427884608,
          30.055588942307576,
          34.2998798076922,
          33.49984975961529,
          37.210787259615266,
          42.972506009615245,
          51.029146634615245,
          52.02073317307676,
          54.92412860576907,
          59.22475961538447,
          63.964843749999865,
          55.82181490384603,
          67.28891225961524,
          65.94426081730755,
          73.0130709134614,
          64.46439302884603,
          59.60787259615372,
          65.09540264423066,
          51.074218749999915,
          51.416015624999915,
          38.330078124999936,
          51.72400841346143,
          45.5303485576922,
          31.539212740384514,
          42.81099759615377,
          50.75120192307683,
          41.41376201923068,
          50.99909855769222,
          47.20177283653839,
          52.080829326922995,
          55.09690504807685,
          55.81430288461531,
          65.29822716346145,
          71.3416466346153,
          68.5584435096153
         ],
         "yaxis": "y"
        },
        {
         "hovertemplate": "Stock=qqq<br>Cumulative Monthly Returns (%)=%{x}<br>Cumulative Monthly Return=%{y}<extra></extra>",
         "legendgroup": "qqq",
         "line": {
          "color": "#F6C2F3",
          "dash": "solid"
         },
         "marker": {
          "symbol": "circle"
         },
         "mode": "lines",
         "name": "qqq",
         "orientation": "v",
         "showlegend": true,
         "type": "scatter",
         "x": [
          "2018-09-01T00:00:00",
          "2018-10-01T00:00:00",
          "2018-11-01T00:00:00",
          "2018-12-01T00:00:00",
          "2019-01-01T00:00:00",
          "2019-02-01T00:00:00",
          "2019-03-01T00:00:00",
          "2019-04-01T00:00:00",
          "2019-05-01T00:00:00",
          "2019-06-01T00:00:00",
          "2019-07-01T00:00:00",
          "2019-08-01T00:00:00",
          "2019-09-01T00:00:00",
          "2019-10-01T00:00:00",
          "2019-11-01T00:00:00",
          "2019-12-01T00:00:00",
          "2020-01-01T00:00:00",
          "2020-02-01T00:00:00",
          "2020-03-01T00:00:00",
          "2020-04-01T00:00:00",
          "2020-05-01T00:00:00",
          "2020-06-01T00:00:00",
          "2020-07-01T00:00:00",
          "2020-08-01T00:00:00",
          "2020-09-01T00:00:00",
          "2020-10-01T00:00:00",
          "2020-11-01T00:00:00",
          "2020-12-01T00:00:00",
          "2021-01-01T00:00:00",
          "2021-02-01T00:00:00",
          "2021-03-01T00:00:00",
          "2021-04-01T00:00:00",
          "2021-05-01T00:00:00",
          "2021-06-01T00:00:00",
          "2021-07-01T00:00:00",
          "2021-08-01T00:00:00",
          "2021-09-01T00:00:00",
          "2021-10-01T00:00:00",
          "2021-11-01T00:00:00",
          "2021-12-01T00:00:00",
          "2022-01-01T00:00:00",
          "2022-02-01T00:00:00",
          "2022-03-01T00:00:00",
          "2022-04-01T00:00:00",
          "2022-05-01T00:00:00",
          "2022-06-01T00:00:00",
          "2022-07-01T00:00:00",
          "2022-08-01T00:00:00",
          "2022-09-01T00:00:00",
          "2022-10-01T00:00:00",
          "2022-11-01T00:00:00",
          "2022-12-01T00:00:00",
          "2023-01-01T00:00:00",
          "2023-02-01T00:00:00",
          "2023-03-01T00:00:00",
          "2023-04-01T00:00:00",
          "2023-05-01T00:00:00",
          "2023-06-01T00:00:00",
          "2023-07-01T00:00:00",
          "2023-08-01T00:00:00"
         ],
         "xaxis": "x",
         "y": [
          null,
          -8.428563465076078,
          -8.673839121467175,
          -16.823680249735197,
          -9.06405039299849,
          -6.349294832487873,
          -2.848542282178501,
          2.6813088800936358,
          -5.763977925190932,
          1.1650593678577126,
          3.7571771001727816,
          1.7838229555716456,
          2.5140754780087926,
          7.218908523329048,
          11.578125871007305,
          15.664195328613651,
          19.438095768994913,
          12.20246390545736,
          3.8073471207982434,
          19.605329171079756,
          27.50432019622049,
          35.2806733931657,
          45.47076202686877,
          61.39695635208198,
          52.07090696248391,
          47.43854172473374,
          63.989074084397025,
          71.71525726071677,
          72.47895646357088,
          72.25040414738824,
          74.98188304810733,
          85.55660850660558,
          83.33240425887716,
          94.5872122191871,
          100.38463682479497,
          108.83549807681567,
          96.75009755281769,
          112.45888845532063,
          116.70104242153947,
          118.91967222253173,
          100.02229778694445,
          91.0697363286692,
          99.74357545013636,
          72.80227437426818,
          70.05964658007674,
          54.61285467417345,
          74.35197056692104,
          65.40498355538196,
          47.711689614805564,
          53.899325491944715,
          62.42822899827172,
          47.43854172473363,
          63.52082055855932,
          62.9299292045262,
          78.12029656056609,
          79.30207926863231,
          93.43887619153773,
          105.35146886671471,
          113.57377780255283,
          110.40191760967697
         ],
         "yaxis": "y"
        }
       ],
       "layout": {
        "font": {
         "color": "black",
         "family": "Georgia"
        },
        "legend": {
         "title": {
          "text": "Stock"
         },
         "tracegroupgap": 0
        },
        "plot_bgcolor": "white",
        "template": {
         "data": {
          "bar": [
           {
            "error_x": {
             "color": "#2a3f5f"
            },
            "error_y": {
             "color": "#2a3f5f"
            },
            "marker": {
             "line": {
              "color": "#E5ECF6",
              "width": 0.5
             },
             "pattern": {
              "fillmode": "overlay",
              "size": 10,
              "solidity": 0.2
             }
            },
            "type": "bar"
           }
          ],
          "barpolar": [
           {
            "marker": {
             "line": {
              "color": "#E5ECF6",
              "width": 0.5
             },
             "pattern": {
              "fillmode": "overlay",
              "size": 10,
              "solidity": 0.2
             }
            },
            "type": "barpolar"
           }
          ],
          "carpet": [
           {
            "aaxis": {
             "endlinecolor": "#2a3f5f",
             "gridcolor": "white",
             "linecolor": "white",
             "minorgridcolor": "white",
             "startlinecolor": "#2a3f5f"
            },
            "baxis": {
             "endlinecolor": "#2a3f5f",
             "gridcolor": "white",
             "linecolor": "white",
             "minorgridcolor": "white",
             "startlinecolor": "#2a3f5f"
            },
            "type": "carpet"
           }
          ],
          "choropleth": [
           {
            "colorbar": {
             "outlinewidth": 0,
             "ticks": ""
            },
            "type": "choropleth"
           }
          ],
          "contour": [
           {
            "colorbar": {
             "outlinewidth": 0,
             "ticks": ""
            },
            "colorscale": [
             [
              0,
              "#0d0887"
             ],
             [
              0.1111111111111111,
              "#46039f"
             ],
             [
              0.2222222222222222,
              "#7201a8"
             ],
             [
              0.3333333333333333,
              "#9c179e"
             ],
             [
              0.4444444444444444,
              "#bd3786"
             ],
             [
              0.5555555555555556,
              "#d8576b"
             ],
             [
              0.6666666666666666,
              "#ed7953"
             ],
             [
              0.7777777777777778,
              "#fb9f3a"
             ],
             [
              0.8888888888888888,
              "#fdca26"
             ],
             [
              1,
              "#f0f921"
             ]
            ],
            "type": "contour"
           }
          ],
          "contourcarpet": [
           {
            "colorbar": {
             "outlinewidth": 0,
             "ticks": ""
            },
            "type": "contourcarpet"
           }
          ],
          "heatmap": [
           {
            "colorbar": {
             "outlinewidth": 0,
             "ticks": ""
            },
            "colorscale": [
             [
              0,
              "#0d0887"
             ],
             [
              0.1111111111111111,
              "#46039f"
             ],
             [
              0.2222222222222222,
              "#7201a8"
             ],
             [
              0.3333333333333333,
              "#9c179e"
             ],
             [
              0.4444444444444444,
              "#bd3786"
             ],
             [
              0.5555555555555556,
              "#d8576b"
             ],
             [
              0.6666666666666666,
              "#ed7953"
             ],
             [
              0.7777777777777778,
              "#fb9f3a"
             ],
             [
              0.8888888888888888,
              "#fdca26"
             ],
             [
              1,
              "#f0f921"
             ]
            ],
            "type": "heatmap"
           }
          ],
          "heatmapgl": [
           {
            "colorbar": {
             "outlinewidth": 0,
             "ticks": ""
            },
            "colorscale": [
             [
              0,
              "#0d0887"
             ],
             [
              0.1111111111111111,
              "#46039f"
             ],
             [
              0.2222222222222222,
              "#7201a8"
             ],
             [
              0.3333333333333333,
              "#9c179e"
             ],
             [
              0.4444444444444444,
              "#bd3786"
             ],
             [
              0.5555555555555556,
              "#d8576b"
             ],
             [
              0.6666666666666666,
              "#ed7953"
             ],
             [
              0.7777777777777778,
              "#fb9f3a"
             ],
             [
              0.8888888888888888,
              "#fdca26"
             ],
             [
              1,
              "#f0f921"
             ]
            ],
            "type": "heatmapgl"
           }
          ],
          "histogram": [
           {
            "marker": {
             "pattern": {
              "fillmode": "overlay",
              "size": 10,
              "solidity": 0.2
             }
            },
            "type": "histogram"
           }
          ],
          "histogram2d": [
           {
            "colorbar": {
             "outlinewidth": 0,
             "ticks": ""
            },
            "colorscale": [
             [
              0,
              "#0d0887"
             ],
             [
              0.1111111111111111,
              "#46039f"
             ],
             [
              0.2222222222222222,
              "#7201a8"
             ],
             [
              0.3333333333333333,
              "#9c179e"
             ],
             [
              0.4444444444444444,
              "#bd3786"
             ],
             [
              0.5555555555555556,
              "#d8576b"
             ],
             [
              0.6666666666666666,
              "#ed7953"
             ],
             [
              0.7777777777777778,
              "#fb9f3a"
             ],
             [
              0.8888888888888888,
              "#fdca26"
             ],
             [
              1,
              "#f0f921"
             ]
            ],
            "type": "histogram2d"
           }
          ],
          "histogram2dcontour": [
           {
            "colorbar": {
             "outlinewidth": 0,
             "ticks": ""
            },
            "colorscale": [
             [
              0,
              "#0d0887"
             ],
             [
              0.1111111111111111,
              "#46039f"
             ],
             [
              0.2222222222222222,
              "#7201a8"
             ],
             [
              0.3333333333333333,
              "#9c179e"
             ],
             [
              0.4444444444444444,
              "#bd3786"
             ],
             [
              0.5555555555555556,
              "#d8576b"
             ],
             [
              0.6666666666666666,
              "#ed7953"
             ],
             [
              0.7777777777777778,
              "#fb9f3a"
             ],
             [
              0.8888888888888888,
              "#fdca26"
             ],
             [
              1,
              "#f0f921"
             ]
            ],
            "type": "histogram2dcontour"
           }
          ],
          "mesh3d": [
           {
            "colorbar": {
             "outlinewidth": 0,
             "ticks": ""
            },
            "type": "mesh3d"
           }
          ],
          "parcoords": [
           {
            "line": {
             "colorbar": {
              "outlinewidth": 0,
              "ticks": ""
             }
            },
            "type": "parcoords"
           }
          ],
          "pie": [
           {
            "automargin": true,
            "type": "pie"
           }
          ],
          "scatter": [
           {
            "fillpattern": {
             "fillmode": "overlay",
             "size": 10,
             "solidity": 0.2
            },
            "type": "scatter"
           }
          ],
          "scatter3d": [
           {
            "line": {
             "colorbar": {
              "outlinewidth": 0,
              "ticks": ""
             }
            },
            "marker": {
             "colorbar": {
              "outlinewidth": 0,
              "ticks": ""
             }
            },
            "type": "scatter3d"
           }
          ],
          "scattercarpet": [
           {
            "marker": {
             "colorbar": {
              "outlinewidth": 0,
              "ticks": ""
             }
            },
            "type": "scattercarpet"
           }
          ],
          "scattergeo": [
           {
            "marker": {
             "colorbar": {
              "outlinewidth": 0,
              "ticks": ""
             }
            },
            "type": "scattergeo"
           }
          ],
          "scattergl": [
           {
            "marker": {
             "colorbar": {
              "outlinewidth": 0,
              "ticks": ""
             }
            },
            "type": "scattergl"
           }
          ],
          "scattermapbox": [
           {
            "marker": {
             "colorbar": {
              "outlinewidth": 0,
              "ticks": ""
             }
            },
            "type": "scattermapbox"
           }
          ],
          "scatterpolar": [
           {
            "marker": {
             "colorbar": {
              "outlinewidth": 0,
              "ticks": ""
             }
            },
            "type": "scatterpolar"
           }
          ],
          "scatterpolargl": [
           {
            "marker": {
             "colorbar": {
              "outlinewidth": 0,
              "ticks": ""
             }
            },
            "type": "scatterpolargl"
           }
          ],
          "scatterternary": [
           {
            "marker": {
             "colorbar": {
              "outlinewidth": 0,
              "ticks": ""
             }
            },
            "type": "scatterternary"
           }
          ],
          "surface": [
           {
            "colorbar": {
             "outlinewidth": 0,
             "ticks": ""
            },
            "colorscale": [
             [
              0,
              "#0d0887"
             ],
             [
              0.1111111111111111,
              "#46039f"
             ],
             [
              0.2222222222222222,
              "#7201a8"
             ],
             [
              0.3333333333333333,
              "#9c179e"
             ],
             [
              0.4444444444444444,
              "#bd3786"
             ],
             [
              0.5555555555555556,
              "#d8576b"
             ],
             [
              0.6666666666666666,
              "#ed7953"
             ],
             [
              0.7777777777777778,
              "#fb9f3a"
             ],
             [
              0.8888888888888888,
              "#fdca26"
             ],
             [
              1,
              "#f0f921"
             ]
            ],
            "type": "surface"
           }
          ],
          "table": [
           {
            "cells": {
             "fill": {
              "color": "#EBF0F8"
             },
             "line": {
              "color": "white"
             }
            },
            "header": {
             "fill": {
              "color": "#C8D4E3"
             },
             "line": {
              "color": "white"
             }
            },
            "type": "table"
           }
          ]
         },
         "layout": {
          "annotationdefaults": {
           "arrowcolor": "#2a3f5f",
           "arrowhead": 0,
           "arrowwidth": 1
          },
          "autotypenumbers": "strict",
          "coloraxis": {
           "colorbar": {
            "outlinewidth": 0,
            "ticks": ""
           }
          },
          "colorscale": {
           "diverging": [
            [
             0,
             "#8e0152"
            ],
            [
             0.1,
             "#c51b7d"
            ],
            [
             0.2,
             "#de77ae"
            ],
            [
             0.3,
             "#f1b6da"
            ],
            [
             0.4,
             "#fde0ef"
            ],
            [
             0.5,
             "#f7f7f7"
            ],
            [
             0.6,
             "#e6f5d0"
            ],
            [
             0.7,
             "#b8e186"
            ],
            [
             0.8,
             "#7fbc41"
            ],
            [
             0.9,
             "#4d9221"
            ],
            [
             1,
             "#276419"
            ]
           ],
           "sequential": [
            [
             0,
             "#0d0887"
            ],
            [
             0.1111111111111111,
             "#46039f"
            ],
            [
             0.2222222222222222,
             "#7201a8"
            ],
            [
             0.3333333333333333,
             "#9c179e"
            ],
            [
             0.4444444444444444,
             "#bd3786"
            ],
            [
             0.5555555555555556,
             "#d8576b"
            ],
            [
             0.6666666666666666,
             "#ed7953"
            ],
            [
             0.7777777777777778,
             "#fb9f3a"
            ],
            [
             0.8888888888888888,
             "#fdca26"
            ],
            [
             1,
             "#f0f921"
            ]
           ],
           "sequentialminus": [
            [
             0,
             "#0d0887"
            ],
            [
             0.1111111111111111,
             "#46039f"
            ],
            [
             0.2222222222222222,
             "#7201a8"
            ],
            [
             0.3333333333333333,
             "#9c179e"
            ],
            [
             0.4444444444444444,
             "#bd3786"
            ],
            [
             0.5555555555555556,
             "#d8576b"
            ],
            [
             0.6666666666666666,
             "#ed7953"
            ],
            [
             0.7777777777777778,
             "#fb9f3a"
            ],
            [
             0.8888888888888888,
             "#fdca26"
            ],
            [
             1,
             "#f0f921"
            ]
           ]
          },
          "colorway": [
           "#636efa",
           "#EF553B",
           "#00cc96",
           "#ab63fa",
           "#FFA15A",
           "#19d3f3",
           "#FF6692",
           "#B6E880",
           "#FF97FF",
           "#FECB52"
          ],
          "font": {
           "color": "#2a3f5f"
          },
          "geo": {
           "bgcolor": "white",
           "lakecolor": "white",
           "landcolor": "#E5ECF6",
           "showlakes": true,
           "showland": true,
           "subunitcolor": "white"
          },
          "hoverlabel": {
           "align": "left"
          },
          "hovermode": "closest",
          "mapbox": {
           "style": "light"
          },
          "paper_bgcolor": "white",
          "plot_bgcolor": "#E5ECF6",
          "polar": {
           "angularaxis": {
            "gridcolor": "white",
            "linecolor": "white",
            "ticks": ""
           },
           "bgcolor": "#E5ECF6",
           "radialaxis": {
            "gridcolor": "white",
            "linecolor": "white",
            "ticks": ""
           }
          },
          "scene": {
           "xaxis": {
            "backgroundcolor": "#E5ECF6",
            "gridcolor": "white",
            "gridwidth": 2,
            "linecolor": "white",
            "showbackground": true,
            "ticks": "",
            "zerolinecolor": "white"
           },
           "yaxis": {
            "backgroundcolor": "#E5ECF6",
            "gridcolor": "white",
            "gridwidth": 2,
            "linecolor": "white",
            "showbackground": true,
            "ticks": "",
            "zerolinecolor": "white"
           },
           "zaxis": {
            "backgroundcolor": "#E5ECF6",
            "gridcolor": "white",
            "gridwidth": 2,
            "linecolor": "white",
            "showbackground": true,
            "ticks": "",
            "zerolinecolor": "white"
           }
          },
          "shapedefaults": {
           "line": {
            "color": "#2a3f5f"
           }
          },
          "ternary": {
           "aaxis": {
            "gridcolor": "white",
            "linecolor": "white",
            "ticks": ""
           },
           "baxis": {
            "gridcolor": "white",
            "linecolor": "white",
            "ticks": ""
           },
           "bgcolor": "#E5ECF6",
           "caxis": {
            "gridcolor": "white",
            "linecolor": "white",
            "ticks": ""
           }
          },
          "title": {
           "x": 0.05
          },
          "xaxis": {
           "automargin": true,
           "gridcolor": "white",
           "linecolor": "white",
           "ticks": "",
           "title": {
            "standoff": 15
           },
           "zerolinecolor": "white",
           "zerolinewidth": 2
          },
          "yaxis": {
           "automargin": true,
           "gridcolor": "white",
           "linecolor": "white",
           "ticks": "",
           "title": {
            "standoff": 15
           },
           "zerolinecolor": "white",
           "zerolinewidth": 2
          }
         }
        },
        "title": {
         "text": "Performance - Cumulative Monthly Returns"
        },
        "xaxis": {
         "anchor": "y",
         "domain": [
          0,
          1
         ],
         "gridcolor": "#D3D3D3",
         "linecolor": "#D3D3D3",
         "mirror": true,
         "showline": true,
         "ticks": "outside",
         "title": {
          "text": "Cumulative Monthly Returns (%)"
         }
        },
        "yaxis": {
         "anchor": "x",
         "domain": [
          0,
          1
         ],
         "gridcolor": "#D3D3D3",
         "linecolor": "#D3D3D3",
         "mirror": true,
         "showline": true,
         "ticks": "outside",
         "title": {
          "text": "Cumulative Monthly Return"
         }
        }
       }
      },
      "text/html": [
       "<div>                            <div id=\"5360da25-c1a9-497b-aef9-ff6eecb2ddf5\" class=\"plotly-graph-div\" style=\"height:525px; width:100%;\"></div>            <script type=\"text/javascript\">                require([\"plotly\"], function(Plotly) {                    window.PLOTLYENV=window.PLOTLYENV || {};                                    if (document.getElementById(\"5360da25-c1a9-497b-aef9-ff6eecb2ddf5\")) {                    Plotly.newPlot(                        \"5360da25-c1a9-497b-aef9-ff6eecb2ddf5\",                        [{\"hovertemplate\":\"Stock=meta<br>Cumulative Monthly Returns (%)=%{x}<br>Cumulative Monthly Return=%{y}<extra></extra>\",\"legendgroup\":\"meta\",\"line\":{\"color\":\"#F09EA7\",\"dash\":\"solid\"},\"marker\":{\"symbol\":\"circle\"},\"mode\":\"lines\",\"name\":\"meta\",\"orientation\":\"v\",\"showlegend\":true,\"x\":[\"2018-09-01T00:00:00\",\"2018-10-01T00:00:00\",\"2018-11-01T00:00:00\",\"2018-12-01T00:00:00\",\"2019-01-01T00:00:00\",\"2019-02-01T00:00:00\",\"2019-03-01T00:00:00\",\"2019-04-01T00:00:00\",\"2019-05-01T00:00:00\",\"2019-06-01T00:00:00\",\"2019-07-01T00:00:00\",\"2019-08-01T00:00:00\",\"2019-09-01T00:00:00\",\"2019-10-01T00:00:00\",\"2019-11-01T00:00:00\",\"2019-12-01T00:00:00\",\"2020-01-01T00:00:00\",\"2020-02-01T00:00:00\",\"2020-03-01T00:00:00\",\"2020-04-01T00:00:00\",\"2020-05-01T00:00:00\",\"2020-06-01T00:00:00\",\"2020-07-01T00:00:00\",\"2020-08-01T00:00:00\",\"2020-09-01T00:00:00\",\"2020-10-01T00:00:00\",\"2020-11-01T00:00:00\",\"2020-12-01T00:00:00\",\"2021-01-01T00:00:00\",\"2021-02-01T00:00:00\",\"2021-03-01T00:00:00\",\"2021-04-01T00:00:00\",\"2021-05-01T00:00:00\",\"2021-06-01T00:00:00\",\"2021-07-01T00:00:00\",\"2021-08-01T00:00:00\",\"2021-09-01T00:00:00\",\"2021-10-01T00:00:00\",\"2021-11-01T00:00:00\",\"2021-12-01T00:00:00\",\"2022-01-01T00:00:00\",\"2022-02-01T00:00:00\",\"2022-03-01T00:00:00\",\"2022-04-01T00:00:00\",\"2022-05-01T00:00:00\",\"2022-06-01T00:00:00\",\"2022-07-01T00:00:00\",\"2022-08-01T00:00:00\",\"2022-09-01T00:00:00\",\"2022-10-01T00:00:00\",\"2022-11-01T00:00:00\",\"2022-12-01T00:00:00\",\"2023-01-01T00:00:00\",\"2023-02-01T00:00:00\",\"2023-03-01T00:00:00\",\"2023-04-01T00:00:00\",\"2023-05-01T00:00:00\",\"2023-06-01T00:00:00\",\"2023-07-01T00:00:00\",\"2023-08-01T00:00:00\"],\"xaxis\":\"x\",\"y\":[null,-7.704000972880953,-14.502006566946369,-20.290648181928738,1.3559528152742306,-1.8302322753253164,1.3559528152742306,17.59698406907455,7.910738173416032,17.353763833150925,18.101666058616072,12.896753009850425,8.281649033199589,16.53289553690871,22.607320929101338,24.8023835583121,22.771494588349796,17.031497020552155,1.4228383801532685,24.474036239815188,36.866107260124096,38.070047427946065,54.244193116867365,78.28043293202,59.248449470996036,59.98419068466503,68.41177185941878,66.09509911224623,57.077708865377666,56.645992946613234,79.08914021646606,97.66508573513323,99.8844703879364,111.42527058251255,116.6484251489725,130.68223276176587,106.36628967530103,96.74692934452152,97.28809436945158,104.51781588228148,90.47792776359,28.31691596740853,35.20612914994532,21.895901739024715,17.742916210628735,-1.9518423932871065,-3.2591511613766166,-0.9303174024078542,-17.499695974705077,-43.35400705338684,-28.189225343548564,-26.827192022376234,-9.418703636142489,6.372370181199116,28.870242004134774,46.126717742916234,60.963152134257626,74.49835826340757,93.72491791317043,79.91608901860639],\"yaxis\":\"y\",\"type\":\"scatter\"},{\"hovertemplate\":\"Stock=amzn<br>Cumulative Monthly Returns (%)=%{x}<br>Cumulative Monthly Return=%{y}<extra></extra>\",\"legendgroup\":\"amzn\",\"line\":{\"color\":\"#F6CA94\",\"dash\":\"solid\"},\"marker\":{\"symbol\":\"circle\"},\"mode\":\"lines\",\"name\":\"amzn\",\"orientation\":\"v\",\"showlegend\":true,\"x\":[\"2018-09-01T00:00:00\",\"2018-10-01T00:00:00\",\"2018-11-01T00:00:00\",\"2018-12-01T00:00:00\",\"2019-01-01T00:00:00\",\"2019-02-01T00:00:00\",\"2019-03-01T00:00:00\",\"2019-04-01T00:00:00\",\"2019-05-01T00:00:00\",\"2019-06-01T00:00:00\",\"2019-07-01T00:00:00\",\"2019-08-01T00:00:00\",\"2019-09-01T00:00:00\",\"2019-10-01T00:00:00\",\"2019-11-01T00:00:00\",\"2019-12-01T00:00:00\",\"2020-01-01T00:00:00\",\"2020-02-01T00:00:00\",\"2020-03-01T00:00:00\",\"2020-04-01T00:00:00\",\"2020-05-01T00:00:00\",\"2020-06-01T00:00:00\",\"2020-07-01T00:00:00\",\"2020-08-01T00:00:00\",\"2020-09-01T00:00:00\",\"2020-10-01T00:00:00\",\"2020-11-01T00:00:00\",\"2020-12-01T00:00:00\",\"2021-01-01T00:00:00\",\"2021-02-01T00:00:00\",\"2021-03-01T00:00:00\",\"2021-04-01T00:00:00\",\"2021-05-01T00:00:00\",\"2021-06-01T00:00:00\",\"2021-07-01T00:00:00\",\"2021-08-01T00:00:00\",\"2021-09-01T00:00:00\",\"2021-10-01T00:00:00\",\"2021-11-01T00:00:00\",\"2021-12-01T00:00:00\",\"2022-01-01T00:00:00\",\"2022-02-01T00:00:00\",\"2022-03-01T00:00:00\",\"2022-04-01T00:00:00\",\"2022-05-01T00:00:00\",\"2022-06-01T00:00:00\",\"2022-07-01T00:00:00\",\"2022-08-01T00:00:00\",\"2022-09-01T00:00:00\",\"2022-10-01T00:00:00\",\"2022-11-01T00:00:00\",\"2022-12-01T00:00:00\",\"2023-01-01T00:00:00\",\"2023-02-01T00:00:00\",\"2023-03-01T00:00:00\",\"2023-04-01T00:00:00\",\"2023-05-01T00:00:00\",\"2023-06-01T00:00:00\",\"2023-07-01T00:00:00\",\"2023-08-01T00:00:00\"],\"xaxis\":\"x\",\"y\":[null,-20.21967049425861,-15.616575137294063,-25.012481278082888,-14.188716924613098,-18.132800798801817,-11.093359960059923,-3.814278582126829,-11.38292561158265,-5.461807289066423,-6.799800299550696,-11.323015476784848,-13.330004992511258,-11.303045431852244,-10.09485771342986,-7.748377433849241,0.2895656515226941,-5.95107338991514,-2.6560159760359636,23.51472790813778,21.937094358462296,37.73339990014974,57.99301048427357,72.291562656016,57.204193709435856,51.582626060908645,58.1627558662007,62.60609086370443,60.069895157264106,54.418372441338,54.46829755366949,73.11033449825261,60.90863704443335,71.75237144283572,66.13080379430853,73.28007988017973,64.00399400898652,68.36744882675987,75.08736894658013,66.47029455816276,49.34598102845731,53.33000499251121,62.755866200698954,24.093859211183233,20.02995506739891,6.05092361457813,34.74787818272591,26.580129805292053,12.83075386919621,2.286570144782818,-3.6045931103344975,-16.125811283075397,2.975536694957537,-5.911133300049942,3.1352970544183734,5.292061907139289,20.39940089865202,30.164752870693956,33.479780329505736,37.80329505741386],\"yaxis\":\"y\",\"type\":\"scatter\"},{\"hovertemplate\":\"Stock=aapl<br>Cumulative Monthly Returns (%)=%{x}<br>Cumulative Monthly Return=%{y}<extra></extra>\",\"legendgroup\":\"aapl\",\"line\":{\"color\":\"#FAFABE\",\"dash\":\"solid\"},\"marker\":{\"symbol\":\"circle\"},\"mode\":\"lines\",\"name\":\"aapl\",\"orientation\":\"v\",\"showlegend\":true,\"x\":[\"2018-09-01T00:00:00\",\"2018-10-01T00:00:00\",\"2018-11-01T00:00:00\",\"2018-12-01T00:00:00\",\"2019-01-01T00:00:00\",\"2019-02-01T00:00:00\",\"2019-03-01T00:00:00\",\"2019-04-01T00:00:00\",\"2019-05-01T00:00:00\",\"2019-06-01T00:00:00\",\"2019-07-01T00:00:00\",\"2019-08-01T00:00:00\",\"2019-09-01T00:00:00\",\"2019-10-01T00:00:00\",\"2019-11-01T00:00:00\",\"2019-12-01T00:00:00\",\"2020-01-01T00:00:00\",\"2020-02-01T00:00:00\",\"2020-03-01T00:00:00\",\"2020-04-01T00:00:00\",\"2020-05-01T00:00:00\",\"2020-06-01T00:00:00\",\"2020-07-01T00:00:00\",\"2020-08-01T00:00:00\",\"2020-09-01T00:00:00\",\"2020-10-01T00:00:00\",\"2020-11-01T00:00:00\",\"2020-12-01T00:00:00\",\"2021-01-01T00:00:00\",\"2021-02-01T00:00:00\",\"2021-03-01T00:00:00\",\"2021-04-01T00:00:00\",\"2021-05-01T00:00:00\",\"2021-06-01T00:00:00\",\"2021-07-01T00:00:00\",\"2021-08-01T00:00:00\",\"2021-09-01T00:00:00\",\"2021-10-01T00:00:00\",\"2021-11-01T00:00:00\",\"2021-12-01T00:00:00\",\"2022-01-01T00:00:00\",\"2022-02-01T00:00:00\",\"2022-03-01T00:00:00\",\"2022-04-01T00:00:00\",\"2022-05-01T00:00:00\",\"2022-06-01T00:00:00\",\"2022-07-01T00:00:00\",\"2022-08-01T00:00:00\",\"2022-09-01T00:00:00\",\"2022-10-01T00:00:00\",\"2022-11-01T00:00:00\",\"2022-12-01T00:00:00\",\"2023-01-01T00:00:00\",\"2023-02-01T00:00:00\",\"2023-03-01T00:00:00\",\"2023-04-01T00:00:00\",\"2023-05-01T00:00:00\",\"2023-06-01T00:00:00\",\"2023-07-01T00:00:00\",\"2023-08-01T00:00:00\"],\"xaxis\":\"x\",\"y\":[null,-3.052728954671602,-20.88806660499538,-29.879740980573544,-26.012950971322844,-23.03422756706752,-15.208140610545783,-10.41628122109156,-21.850138760407013,-11.304347826086946,-4.532839962997215,-6.456984273820532,0.7585568917668928,11.914893617021294,20.222016651248854,32.50693802035152,39.64847363552266,23.34875115633672,15.004625346901012,32.87696577243291,43.79278445883439,65.43940795559664,92.76595744680849,134.07955596669746,110.45328399629967,97.83533765032372,116.35522664199809,141.55411655874187,140.2220166512488,120.74005550416275,122.70120259019421,139.66697502312667,127.17853839037923,150.12025901942638,166.38297872340414,177.28029602220155,158.79740980573533,173.98704902867706,202.33117483811273,225.25439407955585,220.12950971322834,202.44218316373716,220.24051803885277,189.12118408880656,172.96947271045315,151.11933395004615,198.48288621646617,188.76965772432928,154.17206290471776,182.03515263644766,172.26641998149853,139.37095282146154,165.82793709528207,171.56336725254388,204.25531914893605,213.08048103607763,227.04902867715074,258.3903792784459,262.97872340425533,247.12303422756708],\"yaxis\":\"y\",\"type\":\"scatter\"},{\"hovertemplate\":\"Stock=nflx<br>Cumulative Monthly Returns (%)=%{x}<br>Cumulative Monthly Return=%{y}<extra></extra>\",\"legendgroup\":\"nflx\",\"line\":{\"color\":\"#C1EBC0\",\"dash\":\"solid\"},\"marker\":{\"symbol\":\"circle\"},\"mode\":\"lines\",\"name\":\"nflx\",\"orientation\":\"v\",\"showlegend\":true,\"x\":[\"2018-09-01T00:00:00\",\"2018-10-01T00:00:00\",\"2018-11-01T00:00:00\",\"2018-12-01T00:00:00\",\"2019-01-01T00:00:00\",\"2019-02-01T00:00:00\",\"2019-03-01T00:00:00\",\"2019-04-01T00:00:00\",\"2019-05-01T00:00:00\",\"2019-06-01T00:00:00\",\"2019-07-01T00:00:00\",\"2019-08-01T00:00:00\",\"2019-09-01T00:00:00\",\"2019-10-01T00:00:00\",\"2019-11-01T00:00:00\",\"2019-12-01T00:00:00\",\"2020-01-01T00:00:00\",\"2020-02-01T00:00:00\",\"2020-03-01T00:00:00\",\"2020-04-01T00:00:00\",\"2020-05-01T00:00:00\",\"2020-06-01T00:00:00\",\"2020-07-01T00:00:00\",\"2020-08-01T00:00:00\",\"2020-09-01T00:00:00\",\"2020-10-01T00:00:00\",\"2020-11-01T00:00:00\",\"2020-12-01T00:00:00\",\"2021-01-01T00:00:00\",\"2021-02-01T00:00:00\",\"2021-03-01T00:00:00\",\"2021-04-01T00:00:00\",\"2021-05-01T00:00:00\",\"2021-06-01T00:00:00\",\"2021-07-01T00:00:00\",\"2021-08-01T00:00:00\",\"2021-09-01T00:00:00\",\"2021-10-01T00:00:00\",\"2021-11-01T00:00:00\",\"2021-12-01T00:00:00\",\"2022-01-01T00:00:00\",\"2022-02-01T00:00:00\",\"2022-03-01T00:00:00\",\"2022-04-01T00:00:00\",\"2022-05-01T00:00:00\",\"2022-06-01T00:00:00\",\"2022-07-01T00:00:00\",\"2022-08-01T00:00:00\",\"2022-09-01T00:00:00\",\"2022-10-01T00:00:00\",\"2022-11-01T00:00:00\",\"2022-12-01T00:00:00\",\"2023-01-01T00:00:00\",\"2023-02-01T00:00:00\",\"2023-03-01T00:00:00\",\"2023-04-01T00:00:00\",\"2023-05-01T00:00:00\",\"2023-06-01T00:00:00\",\"2023-07-01T00:00:00\",\"2023-08-01T00:00:00\"],\"xaxis\":\"x\",\"y\":[null,-19.338197952583336,-23.521235934033623,-28.458022612460898,-9.256140913586176,-4.284606954801795,-4.696228583647388,-0.9595595113997768,-8.24579691551065,-1.820222917167813,-13.669045518937251,-21.484510731563887,-28.468714083340007,-23.179108865902222,-15.895544329511125,-13.51401919119023,-7.7620078582311125,-1.36316253708606,0.36618287760936674,12.22035121481837,12.188276802181065,21.626172720712056,30.671157084435883,41.54438296848688,33.65140459198675,27.159008900649507,31.157619009435212,44.5299762114773,42.30080453318364,44.02747708015929,39.43281746986338,37.2437388073664,34.39446181808459,41.18354582631702,38.33961457247479,52.13695774196132,63.13580840884183,84.51073156389488,71.57137893245662,61.024242910218376,14.168871782535476,5.449977280624374,0.1229519151097147,-49.119290086333635,-47.226899740731845,-53.25956218426751,-39.88720498222544,-40.2453692566755,-37.07000240558096,-21.984336995162135,-18.335872557667155,-21.18247667922917,-5.417902867987079,-13.898912142838071,-7.657766017159817,-11.814075321412354,5.639750888728501,17.737150188437134,17.33087429503111,15.916927271269298],\"yaxis\":\"y\",\"type\":\"scatter\"},{\"hovertemplate\":\"Stock=goog<br>Cumulative Monthly Returns (%)=%{x}<br>Cumulative Monthly Return=%{y}<extra></extra>\",\"legendgroup\":\"goog\",\"line\":{\"color\":\"#C7CAFF\",\"dash\":\"solid\"},\"marker\":{\"symbol\":\"circle\"},\"mode\":\"lines\",\"name\":\"goog\",\"orientation\":\"v\",\"showlegend\":true,\"x\":[\"2018-09-01T00:00:00\",\"2018-10-01T00:00:00\",\"2018-11-01T00:00:00\",\"2018-12-01T00:00:00\",\"2019-01-01T00:00:00\",\"2019-02-01T00:00:00\",\"2019-03-01T00:00:00\",\"2019-04-01T00:00:00\",\"2019-05-01T00:00:00\",\"2019-06-01T00:00:00\",\"2019-07-01T00:00:00\",\"2019-08-01T00:00:00\",\"2019-09-01T00:00:00\",\"2019-10-01T00:00:00\",\"2019-11-01T00:00:00\",\"2019-12-01T00:00:00\",\"2020-01-01T00:00:00\",\"2020-02-01T00:00:00\",\"2020-03-01T00:00:00\",\"2020-04-01T00:00:00\",\"2020-05-01T00:00:00\",\"2020-06-01T00:00:00\",\"2020-07-01T00:00:00\",\"2020-08-01T00:00:00\",\"2020-09-01T00:00:00\",\"2020-10-01T00:00:00\",\"2020-11-01T00:00:00\",\"2020-12-01T00:00:00\",\"2021-01-01T00:00:00\",\"2021-02-01T00:00:00\",\"2021-03-01T00:00:00\",\"2021-04-01T00:00:00\",\"2021-05-01T00:00:00\",\"2021-06-01T00:00:00\",\"2021-07-01T00:00:00\",\"2021-08-01T00:00:00\",\"2021-09-01T00:00:00\",\"2021-10-01T00:00:00\",\"2021-11-01T00:00:00\",\"2021-12-01T00:00:00\",\"2022-01-01T00:00:00\",\"2022-02-01T00:00:00\",\"2022-03-01T00:00:00\",\"2022-04-01T00:00:00\",\"2022-05-01T00:00:00\",\"2022-06-01T00:00:00\",\"2022-07-01T00:00:00\",\"2022-08-01T00:00:00\",\"2022-09-01T00:00:00\",\"2022-10-01T00:00:00\",\"2022-11-01T00:00:00\",\"2022-12-01T00:00:00\",\"2023-01-01T00:00:00\",\"2023-02-01T00:00:00\",\"2023-03-01T00:00:00\",\"2023-04-01T00:00:00\",\"2023-05-01T00:00:00\",\"2023-06-01T00:00:00\",\"2023-07-01T00:00:00\",\"2023-08-01T00:00:00\"],\"xaxis\":\"x\",\"y\":[null,-9.77040388805095,-8.29562594268477,-13.222724987430867,-6.452153510977043,-6.150494385788507,-1.675884028825203,-0.41897100720630354,-7.524719289425175,-9.418468241997669,1.9440254734372164,-0.452488687782826,2.1451315568962404,5.597452656276136,9.351432880844591,12.032847326964902,20.177643707055392,12.233953410423947,-2.5641025641026105,13.004860063683555,19.741913859560878,18.451483157365487,24.266800737388962,36.93648399530749,23.143958438076062,35.83040053628286,47.544829897771066,46.79068208479973,53.829395005865585,70.6720294955589,73.33668510139097,101.96078431372548,102.07809619574326,110.02178649237476,126.61303837774427,143.77409083291442,123.34506452153518,148.48332495391327,138.7296799061505,142.46690129043077,127.41746271158041,126.059996648232,134.03720462543998,92.67638679403387,91.11781464722644,83.29143623261271,95.47511312217193,82.92274174627117,61.13624937154349,58.63918216859392,70.01843472431707,48.701189877660475,67.37053795877326,51.33232780291603,74.29193899782136,81.36416959946374,106.7538126361656,102.73169096698508,123.07692307692312,130.18267135914198],\"yaxis\":\"y\",\"type\":\"scatter\"},{\"hovertemplate\":\"Stock=spy<br>Cumulative Monthly Returns (%)=%{x}<br>Cumulative Monthly Return=%{y}<extra></extra>\",\"legendgroup\":\"spy\",\"line\":{\"color\":\"#CDABEB\",\"dash\":\"solid\"},\"marker\":{\"symbol\":\"circle\"},\"mode\":\"lines\",\"name\":\"spy\",\"orientation\":\"v\",\"showlegend\":true,\"x\":[\"2018-09-01T00:00:00\",\"2018-10-01T00:00:00\",\"2018-11-01T00:00:00\",\"2018-12-01T00:00:00\",\"2019-01-01T00:00:00\",\"2019-02-01T00:00:00\",\"2019-03-01T00:00:00\",\"2019-04-01T00:00:00\",\"2019-05-01T00:00:00\",\"2019-06-01T00:00:00\",\"2019-07-01T00:00:00\",\"2019-08-01T00:00:00\",\"2019-09-01T00:00:00\",\"2019-10-01T00:00:00\",\"2019-11-01T00:00:00\",\"2019-12-01T00:00:00\",\"2020-01-01T00:00:00\",\"2020-02-01T00:00:00\",\"2020-03-01T00:00:00\",\"2020-04-01T00:00:00\",\"2020-05-01T00:00:00\",\"2020-06-01T00:00:00\",\"2020-07-01T00:00:00\",\"2020-08-01T00:00:00\",\"2020-09-01T00:00:00\",\"2020-10-01T00:00:00\",\"2020-11-01T00:00:00\",\"2020-12-01T00:00:00\",\"2021-01-01T00:00:00\",\"2021-02-01T00:00:00\",\"2021-03-01T00:00:00\",\"2021-04-01T00:00:00\",\"2021-05-01T00:00:00\",\"2021-06-01T00:00:00\",\"2021-07-01T00:00:00\",\"2021-08-01T00:00:00\",\"2021-09-01T00:00:00\",\"2021-10-01T00:00:00\",\"2021-11-01T00:00:00\",\"2021-12-01T00:00:00\",\"2022-01-01T00:00:00\",\"2022-02-01T00:00:00\",\"2022-03-01T00:00:00\",\"2022-04-01T00:00:00\",\"2022-05-01T00:00:00\",\"2022-06-01T00:00:00\",\"2022-07-01T00:00:00\",\"2022-08-01T00:00:00\",\"2022-09-01T00:00:00\",\"2022-10-01T00:00:00\",\"2022-11-01T00:00:00\",\"2022-12-01T00:00:00\",\"2023-01-01T00:00:00\",\"2023-02-01T00:00:00\",\"2023-03-01T00:00:00\",\"2023-04-01T00:00:00\",\"2023-05-01T00:00:00\",\"2023-06-01T00:00:00\",\"2023-07-01T00:00:00\",\"2023-08-01T00:00:00\"],\"xaxis\":\"x\",\"y\":[null,-6.490384615384615,-4.755108173076927,-13.645582932692314,-6.186147836538458,-3.147536057692313,-1.8254206730769384,2.636718749999978,-3.9100060096153966,2.279897836538436,4.330679086538414,2.5841346153845812,4.097806490384559,6.892277644230704,10.760967548076849,13.420222355769162,13.931039663461453,4.912860576922995,-8.725210336538524,3.47055288461533,8.40219350961533,9.84074519230762,16.819411057692225,24.973707932692225,19.81670673076914,17.29642427884608,30.055588942307576,34.2998798076922,33.49984975961529,37.210787259615266,42.972506009615245,51.029146634615245,52.02073317307676,54.92412860576907,59.22475961538447,63.964843749999865,55.82181490384603,67.28891225961524,65.94426081730755,73.0130709134614,64.46439302884603,59.60787259615372,65.09540264423066,51.074218749999915,51.416015624999915,38.330078124999936,51.72400841346143,45.5303485576922,31.539212740384514,42.81099759615377,50.75120192307683,41.41376201923068,50.99909855769222,47.20177283653839,52.080829326922995,55.09690504807685,55.81430288461531,65.29822716346145,71.3416466346153,68.5584435096153],\"yaxis\":\"y\",\"type\":\"scatter\"},{\"hovertemplate\":\"Stock=qqq<br>Cumulative Monthly Returns (%)=%{x}<br>Cumulative Monthly Return=%{y}<extra></extra>\",\"legendgroup\":\"qqq\",\"line\":{\"color\":\"#F6C2F3\",\"dash\":\"solid\"},\"marker\":{\"symbol\":\"circle\"},\"mode\":\"lines\",\"name\":\"qqq\",\"orientation\":\"v\",\"showlegend\":true,\"x\":[\"2018-09-01T00:00:00\",\"2018-10-01T00:00:00\",\"2018-11-01T00:00:00\",\"2018-12-01T00:00:00\",\"2019-01-01T00:00:00\",\"2019-02-01T00:00:00\",\"2019-03-01T00:00:00\",\"2019-04-01T00:00:00\",\"2019-05-01T00:00:00\",\"2019-06-01T00:00:00\",\"2019-07-01T00:00:00\",\"2019-08-01T00:00:00\",\"2019-09-01T00:00:00\",\"2019-10-01T00:00:00\",\"2019-11-01T00:00:00\",\"2019-12-01T00:00:00\",\"2020-01-01T00:00:00\",\"2020-02-01T00:00:00\",\"2020-03-01T00:00:00\",\"2020-04-01T00:00:00\",\"2020-05-01T00:00:00\",\"2020-06-01T00:00:00\",\"2020-07-01T00:00:00\",\"2020-08-01T00:00:00\",\"2020-09-01T00:00:00\",\"2020-10-01T00:00:00\",\"2020-11-01T00:00:00\",\"2020-12-01T00:00:00\",\"2021-01-01T00:00:00\",\"2021-02-01T00:00:00\",\"2021-03-01T00:00:00\",\"2021-04-01T00:00:00\",\"2021-05-01T00:00:00\",\"2021-06-01T00:00:00\",\"2021-07-01T00:00:00\",\"2021-08-01T00:00:00\",\"2021-09-01T00:00:00\",\"2021-10-01T00:00:00\",\"2021-11-01T00:00:00\",\"2021-12-01T00:00:00\",\"2022-01-01T00:00:00\",\"2022-02-01T00:00:00\",\"2022-03-01T00:00:00\",\"2022-04-01T00:00:00\",\"2022-05-01T00:00:00\",\"2022-06-01T00:00:00\",\"2022-07-01T00:00:00\",\"2022-08-01T00:00:00\",\"2022-09-01T00:00:00\",\"2022-10-01T00:00:00\",\"2022-11-01T00:00:00\",\"2022-12-01T00:00:00\",\"2023-01-01T00:00:00\",\"2023-02-01T00:00:00\",\"2023-03-01T00:00:00\",\"2023-04-01T00:00:00\",\"2023-05-01T00:00:00\",\"2023-06-01T00:00:00\",\"2023-07-01T00:00:00\",\"2023-08-01T00:00:00\"],\"xaxis\":\"x\",\"y\":[null,-8.428563465076078,-8.673839121467175,-16.823680249735197,-9.06405039299849,-6.349294832487873,-2.848542282178501,2.6813088800936358,-5.763977925190932,1.1650593678577126,3.7571771001727816,1.7838229555716456,2.5140754780087926,7.218908523329048,11.578125871007305,15.664195328613651,19.438095768994913,12.20246390545736,3.8073471207982434,19.605329171079756,27.50432019622049,35.2806733931657,45.47076202686877,61.39695635208198,52.07090696248391,47.43854172473374,63.989074084397025,71.71525726071677,72.47895646357088,72.25040414738824,74.98188304810733,85.55660850660558,83.33240425887716,94.5872122191871,100.38463682479497,108.83549807681567,96.75009755281769,112.45888845532063,116.70104242153947,118.91967222253173,100.02229778694445,91.0697363286692,99.74357545013636,72.80227437426818,70.05964658007674,54.61285467417345,74.35197056692104,65.40498355538196,47.711689614805564,53.899325491944715,62.42822899827172,47.43854172473363,63.52082055855932,62.9299292045262,78.12029656056609,79.30207926863231,93.43887619153773,105.35146886671471,113.57377780255283,110.40191760967697],\"yaxis\":\"y\",\"type\":\"scatter\"}],                        {\"template\":{\"data\":{\"histogram2dcontour\":[{\"type\":\"histogram2dcontour\",\"colorbar\":{\"outlinewidth\":0,\"ticks\":\"\"},\"colorscale\":[[0.0,\"#0d0887\"],[0.1111111111111111,\"#46039f\"],[0.2222222222222222,\"#7201a8\"],[0.3333333333333333,\"#9c179e\"],[0.4444444444444444,\"#bd3786\"],[0.5555555555555556,\"#d8576b\"],[0.6666666666666666,\"#ed7953\"],[0.7777777777777778,\"#fb9f3a\"],[0.8888888888888888,\"#fdca26\"],[1.0,\"#f0f921\"]]}],\"choropleth\":[{\"type\":\"choropleth\",\"colorbar\":{\"outlinewidth\":0,\"ticks\":\"\"}}],\"histogram2d\":[{\"type\":\"histogram2d\",\"colorbar\":{\"outlinewidth\":0,\"ticks\":\"\"},\"colorscale\":[[0.0,\"#0d0887\"],[0.1111111111111111,\"#46039f\"],[0.2222222222222222,\"#7201a8\"],[0.3333333333333333,\"#9c179e\"],[0.4444444444444444,\"#bd3786\"],[0.5555555555555556,\"#d8576b\"],[0.6666666666666666,\"#ed7953\"],[0.7777777777777778,\"#fb9f3a\"],[0.8888888888888888,\"#fdca26\"],[1.0,\"#f0f921\"]]}],\"heatmap\":[{\"type\":\"heatmap\",\"colorbar\":{\"outlinewidth\":0,\"ticks\":\"\"},\"colorscale\":[[0.0,\"#0d0887\"],[0.1111111111111111,\"#46039f\"],[0.2222222222222222,\"#7201a8\"],[0.3333333333333333,\"#9c179e\"],[0.4444444444444444,\"#bd3786\"],[0.5555555555555556,\"#d8576b\"],[0.6666666666666666,\"#ed7953\"],[0.7777777777777778,\"#fb9f3a\"],[0.8888888888888888,\"#fdca26\"],[1.0,\"#f0f921\"]]}],\"heatmapgl\":[{\"type\":\"heatmapgl\",\"colorbar\":{\"outlinewidth\":0,\"ticks\":\"\"},\"colorscale\":[[0.0,\"#0d0887\"],[0.1111111111111111,\"#46039f\"],[0.2222222222222222,\"#7201a8\"],[0.3333333333333333,\"#9c179e\"],[0.4444444444444444,\"#bd3786\"],[0.5555555555555556,\"#d8576b\"],[0.6666666666666666,\"#ed7953\"],[0.7777777777777778,\"#fb9f3a\"],[0.8888888888888888,\"#fdca26\"],[1.0,\"#f0f921\"]]}],\"contourcarpet\":[{\"type\":\"contourcarpet\",\"colorbar\":{\"outlinewidth\":0,\"ticks\":\"\"}}],\"contour\":[{\"type\":\"contour\",\"colorbar\":{\"outlinewidth\":0,\"ticks\":\"\"},\"colorscale\":[[0.0,\"#0d0887\"],[0.1111111111111111,\"#46039f\"],[0.2222222222222222,\"#7201a8\"],[0.3333333333333333,\"#9c179e\"],[0.4444444444444444,\"#bd3786\"],[0.5555555555555556,\"#d8576b\"],[0.6666666666666666,\"#ed7953\"],[0.7777777777777778,\"#fb9f3a\"],[0.8888888888888888,\"#fdca26\"],[1.0,\"#f0f921\"]]}],\"surface\":[{\"type\":\"surface\",\"colorbar\":{\"outlinewidth\":0,\"ticks\":\"\"},\"colorscale\":[[0.0,\"#0d0887\"],[0.1111111111111111,\"#46039f\"],[0.2222222222222222,\"#7201a8\"],[0.3333333333333333,\"#9c179e\"],[0.4444444444444444,\"#bd3786\"],[0.5555555555555556,\"#d8576b\"],[0.6666666666666666,\"#ed7953\"],[0.7777777777777778,\"#fb9f3a\"],[0.8888888888888888,\"#fdca26\"],[1.0,\"#f0f921\"]]}],\"mesh3d\":[{\"type\":\"mesh3d\",\"colorbar\":{\"outlinewidth\":0,\"ticks\":\"\"}}],\"scatter\":[{\"fillpattern\":{\"fillmode\":\"overlay\",\"size\":10,\"solidity\":0.2},\"type\":\"scatter\"}],\"parcoords\":[{\"type\":\"parcoords\",\"line\":{\"colorbar\":{\"outlinewidth\":0,\"ticks\":\"\"}}}],\"scatterpolargl\":[{\"type\":\"scatterpolargl\",\"marker\":{\"colorbar\":{\"outlinewidth\":0,\"ticks\":\"\"}}}],\"bar\":[{\"error_x\":{\"color\":\"#2a3f5f\"},\"error_y\":{\"color\":\"#2a3f5f\"},\"marker\":{\"line\":{\"color\":\"#E5ECF6\",\"width\":0.5},\"pattern\":{\"fillmode\":\"overlay\",\"size\":10,\"solidity\":0.2}},\"type\":\"bar\"}],\"scattergeo\":[{\"type\":\"scattergeo\",\"marker\":{\"colorbar\":{\"outlinewidth\":0,\"ticks\":\"\"}}}],\"scatterpolar\":[{\"type\":\"scatterpolar\",\"marker\":{\"colorbar\":{\"outlinewidth\":0,\"ticks\":\"\"}}}],\"histogram\":[{\"marker\":{\"pattern\":{\"fillmode\":\"overlay\",\"size\":10,\"solidity\":0.2}},\"type\":\"histogram\"}],\"scattergl\":[{\"type\":\"scattergl\",\"marker\":{\"colorbar\":{\"outlinewidth\":0,\"ticks\":\"\"}}}],\"scatter3d\":[{\"type\":\"scatter3d\",\"line\":{\"colorbar\":{\"outlinewidth\":0,\"ticks\":\"\"}},\"marker\":{\"colorbar\":{\"outlinewidth\":0,\"ticks\":\"\"}}}],\"scattermapbox\":[{\"type\":\"scattermapbox\",\"marker\":{\"colorbar\":{\"outlinewidth\":0,\"ticks\":\"\"}}}],\"scatterternary\":[{\"type\":\"scatterternary\",\"marker\":{\"colorbar\":{\"outlinewidth\":0,\"ticks\":\"\"}}}],\"scattercarpet\":[{\"type\":\"scattercarpet\",\"marker\":{\"colorbar\":{\"outlinewidth\":0,\"ticks\":\"\"}}}],\"carpet\":[{\"aaxis\":{\"endlinecolor\":\"#2a3f5f\",\"gridcolor\":\"white\",\"linecolor\":\"white\",\"minorgridcolor\":\"white\",\"startlinecolor\":\"#2a3f5f\"},\"baxis\":{\"endlinecolor\":\"#2a3f5f\",\"gridcolor\":\"white\",\"linecolor\":\"white\",\"minorgridcolor\":\"white\",\"startlinecolor\":\"#2a3f5f\"},\"type\":\"carpet\"}],\"table\":[{\"cells\":{\"fill\":{\"color\":\"#EBF0F8\"},\"line\":{\"color\":\"white\"}},\"header\":{\"fill\":{\"color\":\"#C8D4E3\"},\"line\":{\"color\":\"white\"}},\"type\":\"table\"}],\"barpolar\":[{\"marker\":{\"line\":{\"color\":\"#E5ECF6\",\"width\":0.5},\"pattern\":{\"fillmode\":\"overlay\",\"size\":10,\"solidity\":0.2}},\"type\":\"barpolar\"}],\"pie\":[{\"automargin\":true,\"type\":\"pie\"}]},\"layout\":{\"autotypenumbers\":\"strict\",\"colorway\":[\"#636efa\",\"#EF553B\",\"#00cc96\",\"#ab63fa\",\"#FFA15A\",\"#19d3f3\",\"#FF6692\",\"#B6E880\",\"#FF97FF\",\"#FECB52\"],\"font\":{\"color\":\"#2a3f5f\"},\"hovermode\":\"closest\",\"hoverlabel\":{\"align\":\"left\"},\"paper_bgcolor\":\"white\",\"plot_bgcolor\":\"#E5ECF6\",\"polar\":{\"bgcolor\":\"#E5ECF6\",\"angularaxis\":{\"gridcolor\":\"white\",\"linecolor\":\"white\",\"ticks\":\"\"},\"radialaxis\":{\"gridcolor\":\"white\",\"linecolor\":\"white\",\"ticks\":\"\"}},\"ternary\":{\"bgcolor\":\"#E5ECF6\",\"aaxis\":{\"gridcolor\":\"white\",\"linecolor\":\"white\",\"ticks\":\"\"},\"baxis\":{\"gridcolor\":\"white\",\"linecolor\":\"white\",\"ticks\":\"\"},\"caxis\":{\"gridcolor\":\"white\",\"linecolor\":\"white\",\"ticks\":\"\"}},\"coloraxis\":{\"colorbar\":{\"outlinewidth\":0,\"ticks\":\"\"}},\"colorscale\":{\"sequential\":[[0.0,\"#0d0887\"],[0.1111111111111111,\"#46039f\"],[0.2222222222222222,\"#7201a8\"],[0.3333333333333333,\"#9c179e\"],[0.4444444444444444,\"#bd3786\"],[0.5555555555555556,\"#d8576b\"],[0.6666666666666666,\"#ed7953\"],[0.7777777777777778,\"#fb9f3a\"],[0.8888888888888888,\"#fdca26\"],[1.0,\"#f0f921\"]],\"sequentialminus\":[[0.0,\"#0d0887\"],[0.1111111111111111,\"#46039f\"],[0.2222222222222222,\"#7201a8\"],[0.3333333333333333,\"#9c179e\"],[0.4444444444444444,\"#bd3786\"],[0.5555555555555556,\"#d8576b\"],[0.6666666666666666,\"#ed7953\"],[0.7777777777777778,\"#fb9f3a\"],[0.8888888888888888,\"#fdca26\"],[1.0,\"#f0f921\"]],\"diverging\":[[0,\"#8e0152\"],[0.1,\"#c51b7d\"],[0.2,\"#de77ae\"],[0.3,\"#f1b6da\"],[0.4,\"#fde0ef\"],[0.5,\"#f7f7f7\"],[0.6,\"#e6f5d0\"],[0.7,\"#b8e186\"],[0.8,\"#7fbc41\"],[0.9,\"#4d9221\"],[1,\"#276419\"]]},\"xaxis\":{\"gridcolor\":\"white\",\"linecolor\":\"white\",\"ticks\":\"\",\"title\":{\"standoff\":15},\"zerolinecolor\":\"white\",\"automargin\":true,\"zerolinewidth\":2},\"yaxis\":{\"gridcolor\":\"white\",\"linecolor\":\"white\",\"ticks\":\"\",\"title\":{\"standoff\":15},\"zerolinecolor\":\"white\",\"automargin\":true,\"zerolinewidth\":2},\"scene\":{\"xaxis\":{\"backgroundcolor\":\"#E5ECF6\",\"gridcolor\":\"white\",\"linecolor\":\"white\",\"showbackground\":true,\"ticks\":\"\",\"zerolinecolor\":\"white\",\"gridwidth\":2},\"yaxis\":{\"backgroundcolor\":\"#E5ECF6\",\"gridcolor\":\"white\",\"linecolor\":\"white\",\"showbackground\":true,\"ticks\":\"\",\"zerolinecolor\":\"white\",\"gridwidth\":2},\"zaxis\":{\"backgroundcolor\":\"#E5ECF6\",\"gridcolor\":\"white\",\"linecolor\":\"white\",\"showbackground\":true,\"ticks\":\"\",\"zerolinecolor\":\"white\",\"gridwidth\":2}},\"shapedefaults\":{\"line\":{\"color\":\"#2a3f5f\"}},\"annotationdefaults\":{\"arrowcolor\":\"#2a3f5f\",\"arrowhead\":0,\"arrowwidth\":1},\"geo\":{\"bgcolor\":\"white\",\"landcolor\":\"#E5ECF6\",\"subunitcolor\":\"white\",\"showland\":true,\"showlakes\":true,\"lakecolor\":\"white\"},\"title\":{\"x\":0.05},\"mapbox\":{\"style\":\"light\"}}},\"xaxis\":{\"anchor\":\"y\",\"domain\":[0.0,1.0],\"title\":{\"text\":\"Cumulative Monthly Returns (%)\"},\"mirror\":true,\"ticks\":\"outside\",\"showline\":true,\"linecolor\":\"#D3D3D3\",\"gridcolor\":\"#D3D3D3\"},\"yaxis\":{\"anchor\":\"x\",\"domain\":[0.0,1.0],\"title\":{\"text\":\"Cumulative Monthly Return\"},\"mirror\":true,\"ticks\":\"outside\",\"showline\":true,\"linecolor\":\"#D3D3D3\",\"gridcolor\":\"#D3D3D3\"},\"legend\":{\"title\":{\"text\":\"Stock\"},\"tracegroupgap\":0},\"title\":{\"text\":\"Performance - Cumulative Monthly Returns\"},\"font\":{\"family\":\"Georgia\",\"color\":\"black\"},\"plot_bgcolor\":\"white\"},                        {\"responsive\": true}                    ).then(function(){\n",
       "                            \n",
       "var gd = document.getElementById('5360da25-c1a9-497b-aef9-ff6eecb2ddf5');\n",
       "var x = new MutationObserver(function (mutations, observer) {{\n",
       "        var display = window.getComputedStyle(gd).display;\n",
       "        if (!display || display === 'none') {{\n",
       "            console.log([gd, 'removed!']);\n",
       "            Plotly.purge(gd);\n",
       "            observer.disconnect();\n",
       "        }}\n",
       "}});\n",
       "\n",
       "// Listen for the removal of the full notebook cells\n",
       "var notebookContainer = gd.closest('#notebook-container');\n",
       "if (notebookContainer) {{\n",
       "    x.observe(notebookContainer, {childList: true});\n",
       "}}\n",
       "\n",
       "// Listen for the clearing of the current output cell\n",
       "var outputEl = gd.closest('.output');\n",
       "if (outputEl) {{\n",
       "    x.observe(outputEl, {childList: true});\n",
       "}}\n",
       "\n",
       "                        })                };                });            </script>        </div>"
      ]
     },
     "metadata": {},
     "output_type": "display_data"
    }
   ],
   "source": [
    "# organize cumulative returns data together\n",
    "cum_data = pd.melt(cum_monthlyret.reset_index(), id_vars = 'Date', var_name = 'Stock', value_name = 'Cumulative Monthly Return')\n",
    "cum_data['Cumulative Monthly Return'] = cum_data['Cumulative Monthly Return'] * 100\n",
    "\n",
    "# create figure\n",
    "cum_fig = px.line(cum_data, x = 'Date',\n",
    "              y = 'Cumulative Monthly Return', color = 'Stock',\n",
    "              title = 'Performance - Cumulative Monthly Returns',\n",
    "              labels = {'Date' : 'Cumulative Monthly Returns (%)'},\n",
    "              color_discrete_sequence = ['#F09EA7', '#F6CA94', '#FAFABE', '#C1EBC0', '#C7CAFF', '#CDABEB', '#F6C2F3'])\n",
    "\n",
    "cum_fig.update_layout({\n",
    "    'font_family': 'Georgia',\n",
    "    'font_color': 'black',\n",
    "    'plot_bgcolor': 'white'\n",
    "})\n",
    "\n",
    "cum_fig.update_xaxes(\n",
    "    mirror = True,\n",
    "    ticks = 'outside',\n",
    "    showline = True,\n",
    "    linecolor = '#D3D3D3',\n",
    "    gridcolor = '#D3D3D3'\n",
    ")\n",
    "\n",
    "cum_fig.update_yaxes(\n",
    "    mirror = True,\n",
    "    ticks = 'outside',\n",
    "    showline = True,\n",
    "    linecolor = '#D3D3D3',\n",
    "    gridcolor = '#D3D3D3'\n",
    ")\n",
    "\n",
    "cum_fig.show()"
   ]
  },
  {
   "cell_type": "markdown",
   "id": "f08e43b5",
   "metadata": {},
   "source": [
    "### Cumulative Returns Analysis\n",
    "\n",
    "#### Apple had the largest cumulative monthly returns, starting July 2020, where it started progressing faster than the other 6 stocks in terms of return. All other stocks stayed within the same margins of return, with the stocks ranking from first to last: Google, QQQ, Facebook, SPY, Amazon, and Netflix."
   ]
  },
  {
   "cell_type": "markdown",
   "id": "10be3b13",
   "metadata": {},
   "source": [
    "# Investment Strategy"
   ]
  },
  {
   "cell_type": "markdown",
   "id": "c4ed3299",
   "metadata": {},
   "source": [
    "### Using 60,000 dollars as a scenario to determine if all-in investment or spread-out investment is a better strategy. "
   ]
  },
  {
   "cell_type": "markdown",
   "id": "d0911fd6",
   "metadata": {},
   "source": [
    "### All-In Investment"
   ]
  },
  {
   "cell_type": "markdown",
   "id": "86dfbe1f",
   "metadata": {},
   "source": [
    "#### Investing 60,000 dollars on 9/1/2018, and determining the return on investment 5 years later, on 8/1/2023. "
   ]
  },
  {
   "cell_type": "code",
   "execution_count": 29,
   "id": "6b86ea02",
   "metadata": {},
   "outputs": [
    {
     "data": {
      "text/html": [
       "<div>\n",
       "<style scoped>\n",
       "    .dataframe tbody tr th:only-of-type {\n",
       "        vertical-align: middle;\n",
       "    }\n",
       "\n",
       "    .dataframe tbody tr th {\n",
       "        vertical-align: top;\n",
       "    }\n",
       "\n",
       "    .dataframe thead th {\n",
       "        text-align: right;\n",
       "    }\n",
       "</style>\n",
       "<table border=\"1\" class=\"dataframe\">\n",
       "  <thead>\n",
       "    <tr style=\"text-align: right;\">\n",
       "      <th></th>\n",
       "      <th>meta</th>\n",
       "      <th>amzn</th>\n",
       "      <th>aapl</th>\n",
       "      <th>nflx</th>\n",
       "      <th>goog</th>\n",
       "      <th>spy</th>\n",
       "      <th>qqq</th>\n",
       "    </tr>\n",
       "    <tr>\n",
       "      <th>description</th>\n",
       "      <th></th>\n",
       "      <th></th>\n",
       "      <th></th>\n",
       "      <th></th>\n",
       "      <th></th>\n",
       "      <th></th>\n",
       "      <th></th>\n",
       "    </tr>\n",
       "  </thead>\n",
       "  <tbody>\n",
       "    <tr>\n",
       "      <th>adjacent close prices on 9/1/2018</th>\n",
       "      <td>164.46</td>\n",
       "      <td>100.15</td>\n",
       "      <td>54.05</td>\n",
       "      <td>374.13</td>\n",
       "      <td>59.67</td>\n",
       "      <td>266.24</td>\n",
       "      <td>179.39</td>\n",
       "    </tr>\n",
       "    <tr>\n",
       "      <th>how many stocks $60,000 can buy</th>\n",
       "      <td>364.00</td>\n",
       "      <td>599.00</td>\n",
       "      <td>1110.00</td>\n",
       "      <td>160.00</td>\n",
       "      <td>1005.00</td>\n",
       "      <td>225.00</td>\n",
       "      <td>334.00</td>\n",
       "    </tr>\n",
       "    <tr>\n",
       "      <th>$ spent</th>\n",
       "      <td>59863.44</td>\n",
       "      <td>59989.85</td>\n",
       "      <td>59995.50</td>\n",
       "      <td>59860.80</td>\n",
       "      <td>59968.35</td>\n",
       "      <td>59904.00</td>\n",
       "      <td>59916.26</td>\n",
       "    </tr>\n",
       "    <tr>\n",
       "      <th>$ sold</th>\n",
       "      <td>107703.96</td>\n",
       "      <td>82667.99</td>\n",
       "      <td>208258.20</td>\n",
       "      <td>69388.80</td>\n",
       "      <td>138036.75</td>\n",
       "      <td>100973.25</td>\n",
       "      <td>126064.96</td>\n",
       "    </tr>\n",
       "    <tr>\n",
       "      <th>% return</th>\n",
       "      <td>79.92</td>\n",
       "      <td>37.80</td>\n",
       "      <td>247.12</td>\n",
       "      <td>15.92</td>\n",
       "      <td>130.18</td>\n",
       "      <td>68.56</td>\n",
       "      <td>110.40</td>\n",
       "    </tr>\n",
       "  </tbody>\n",
       "</table>\n",
       "</div>"
      ],
      "text/plain": [
       "                                        meta      amzn       aapl      nflx  \\\n",
       "description                                                                   \n",
       "adjacent close prices on 9/1/2018     164.46    100.15      54.05    374.13   \n",
       "how many stocks $60,000 can buy       364.00    599.00    1110.00    160.00   \n",
       "$ spent                             59863.44  59989.85   59995.50  59860.80   \n",
       "$ sold                             107703.96  82667.99  208258.20  69388.80   \n",
       "% return                               79.92     37.80     247.12     15.92   \n",
       "\n",
       "                                        goog        spy        qqq  \n",
       "description                                                         \n",
       "adjacent close prices on 9/1/2018      59.67     266.24     179.39  \n",
       "how many stocks $60,000 can buy      1005.00     225.00     334.00  \n",
       "$ spent                             59968.35   59904.00   59916.26  \n",
       "$ sold                             138036.75  100973.25  126064.96  \n",
       "% return                              130.18      68.56     110.40  "
      ]
     },
     "execution_count": 29,
     "metadata": {},
     "output_type": "execute_result"
    }
   ],
   "source": [
    "# gather relevant data to calculate returns\n",
    "AII_return = pd.DataFrame(columns = ['meta', 'amzn', 'aapl', 'nflx', 'goog', 'spy', 'qqq'])\n",
    "AII_return.loc[0] = adj_close.iloc[59]\n",
    "AII_return.loc[1] = (60000 / AII_return.iloc[0]).apply(np.floor)\n",
    "AII_return.loc[2] = AII_return.iloc[1] * AII_return.iloc[0]\n",
    "AII_return.loc[3] = AII_return.iloc[1] * adj_close.iloc[0]\n",
    "AII_return.loc[4] = (((AII_return.iloc[3] - AII_return.iloc[2]) / AII_return.iloc[2]) * 100).round(2)\n",
    "\n",
    "AII_return.insert(0, 'description', ['adjacent close prices on 9/1/2018', 'how many stocks $60,000 can buy', '$ spent', '$ sold', '% return'])\n",
    "\n",
    "AII_return = AII_return.set_index('description'); AII_return"
   ]
  },
  {
   "cell_type": "markdown",
   "id": "01549ff2",
   "metadata": {},
   "source": [
    "## Spread-Out Investment (Dollar-Cost-Averaging)"
   ]
  },
  {
   "cell_type": "code",
   "execution_count": 30,
   "id": "977f365d",
   "metadata": {},
   "outputs": [],
   "source": [
    "def SOI(limit, money):\n",
    "    \n",
    "    SOI_stock = pd.DataFrame(columns = ['meta', 'amzn', 'aapl', 'nflx', 'goog', 'spy', 'qqq'])\n",
    "\n",
    "    month = 1\n",
    "    # iterating through months of 9/1/2018 to 8/1/2019\n",
    "    for index, row in adj_close.sort_index(ascending = True).iterrows():\n",
    "        if month < (limit + 1):\n",
    "            first_row = []\n",
    "            first_row.append((money / row).apply(np.floor))\n",
    "            first_row = pd.DataFrame(first_row)\n",
    "            SOI_stock = pd.concat([SOI_stock, first_row], ignore_index = True)\n",
    "        month += 1\n",
    "        \n",
    "    SOI_stock.loc['Total'] = SOI_stock.sum()\n",
    "        \n",
    "    \n",
    "    if limit != 60:\n",
    "        yr = adj_close.sort_index(ascending = True).drop(adj_close.index[:(60 - limit)]).reset_index(drop=True)\n",
    "    else:\n",
    "        yr = adj_close.sort_index(ascending = True).reset_index(drop=True)\n",
    "\n",
    "    # finding the money spent on amount of stocks bought\n",
    "    SOI_value = yr.multiply(SOI_stock)\n",
    "\n",
    "    SOI_value.loc['Total'] = SOI_value.sum()\n",
    "    \n",
    "    \n",
    "    \n",
    "    SOI_returns = pd.DataFrame(columns = ['meta', 'amzn', 'aapl', 'nflx', 'goog', 'spy', 'qqq'])\n",
    "\n",
    "    # calculating returns\n",
    "    SOI_sold = SOI_stock.loc['Total'] * adj_close.iloc[0]\n",
    "    SOI_returns.loc[0] = ((SOI_sold - SOI_value.loc['Total']) / SOI_value.loc['Total']) * 100\n",
    "\n",
    "    return SOI_returns"
   ]
  },
  {
   "cell_type": "markdown",
   "id": "ec210be8",
   "metadata": {},
   "source": [
    "#### Scenario A: Investing 6,000 dollars every month for a year on the first day of the month, starting 9/1/2018, and determining the return on investment 5 years later, on 8/1/2023."
   ]
  },
  {
   "cell_type": "code",
   "execution_count": 31,
   "id": "5d61de5f",
   "metadata": {},
   "outputs": [
    {
     "data": {
      "text/html": [
       "<div>\n",
       "<style scoped>\n",
       "    .dataframe tbody tr th:only-of-type {\n",
       "        vertical-align: middle;\n",
       "    }\n",
       "\n",
       "    .dataframe tbody tr th {\n",
       "        vertical-align: top;\n",
       "    }\n",
       "\n",
       "    .dataframe thead th {\n",
       "        text-align: right;\n",
       "    }\n",
       "</style>\n",
       "<table border=\"1\" class=\"dataframe\">\n",
       "  <thead>\n",
       "    <tr style=\"text-align: right;\">\n",
       "      <th></th>\n",
       "      <th>meta</th>\n",
       "      <th>amzn</th>\n",
       "      <th>aapl</th>\n",
       "      <th>nflx</th>\n",
       "      <th>goog</th>\n",
       "      <th>spy</th>\n",
       "      <th>qqq</th>\n",
       "    </tr>\n",
       "  </thead>\n",
       "  <tbody>\n",
       "    <tr>\n",
       "      <th>0</th>\n",
       "      <td>77.808877</td>\n",
       "      <td>57.447877</td>\n",
       "      <td>310.559798</td>\n",
       "      <td>32.21304</td>\n",
       "      <td>143.183055</td>\n",
       "      <td>73.142468</td>\n",
       "      <td>120.15574</td>\n",
       "    </tr>\n",
       "  </tbody>\n",
       "</table>\n",
       "</div>"
      ],
      "text/plain": [
       "        meta       amzn        aapl      nflx        goog        spy  \\\n",
       "0  77.808877  57.447877  310.559798  32.21304  143.183055  73.142468   \n",
       "\n",
       "         qqq  \n",
       "0  120.15574  "
      ]
     },
     "execution_count": 31,
     "metadata": {},
     "output_type": "execute_result"
    }
   ],
   "source": [
    "SOI(12, 6000)"
   ]
  },
  {
   "cell_type": "markdown",
   "id": "16f0539e",
   "metadata": {},
   "source": [
    "#### Scenario B: Investing 1,000 dollars every month for 3 years on the first day of the month, starting 9/1/2018, and determining the return on investment percentage 5 years later, on 8/1/2023."
   ]
  },
  {
   "cell_type": "code",
   "execution_count": 32,
   "id": "89995dec",
   "metadata": {},
   "outputs": [
    {
     "data": {
      "text/html": [
       "<div>\n",
       "<style scoped>\n",
       "    .dataframe tbody tr th:only-of-type {\n",
       "        vertical-align: middle;\n",
       "    }\n",
       "\n",
       "    .dataframe tbody tr th {\n",
       "        vertical-align: top;\n",
       "    }\n",
       "\n",
       "    .dataframe thead th {\n",
       "        text-align: right;\n",
       "    }\n",
       "</style>\n",
       "<table border=\"1\" class=\"dataframe\">\n",
       "  <thead>\n",
       "    <tr style=\"text-align: right;\">\n",
       "      <th></th>\n",
       "      <th>meta</th>\n",
       "      <th>amzn</th>\n",
       "      <th>aapl</th>\n",
       "      <th>nflx</th>\n",
       "      <th>goog</th>\n",
       "      <th>spy</th>\n",
       "      <th>qqq</th>\n",
       "    </tr>\n",
       "  </thead>\n",
       "  <tbody>\n",
       "    <tr>\n",
       "      <th>0</th>\n",
       "      <td>41.858287</td>\n",
       "      <td>24.05058</td>\n",
       "      <td>174.973507</td>\n",
       "      <td>14.603861</td>\n",
       "      <td>94.54844</td>\n",
       "      <td>50.331488</td>\n",
       "      <td>73.095738</td>\n",
       "    </tr>\n",
       "  </tbody>\n",
       "</table>\n",
       "</div>"
      ],
      "text/plain": [
       "        meta      amzn        aapl       nflx      goog        spy        qqq\n",
       "0  41.858287  24.05058  174.973507  14.603861  94.54844  50.331488  73.095738"
      ]
     },
     "execution_count": 32,
     "metadata": {},
     "output_type": "execute_result"
    }
   ],
   "source": [
    "SOI(36, 1000)"
   ]
  },
  {
   "cell_type": "markdown",
   "id": "5c2571e9",
   "metadata": {},
   "source": [
    "#### Scenario C: Investing 1,000 dollars every month for a year on the first day of the month, starting 9/1/2018, and determining the return on investment 5 years later, on 8/1/2023."
   ]
  },
  {
   "cell_type": "code",
   "execution_count": 33,
   "id": "42cf4751",
   "metadata": {},
   "outputs": [
    {
     "data": {
      "text/html": [
       "<div>\n",
       "<style scoped>\n",
       "    .dataframe tbody tr th:only-of-type {\n",
       "        vertical-align: middle;\n",
       "    }\n",
       "\n",
       "    .dataframe tbody tr th {\n",
       "        vertical-align: top;\n",
       "    }\n",
       "\n",
       "    .dataframe thead th {\n",
       "        text-align: right;\n",
       "    }\n",
       "</style>\n",
       "<table border=\"1\" class=\"dataframe\">\n",
       "  <thead>\n",
       "    <tr style=\"text-align: right;\">\n",
       "      <th></th>\n",
       "      <th>meta</th>\n",
       "      <th>amzn</th>\n",
       "      <th>aapl</th>\n",
       "      <th>nflx</th>\n",
       "      <th>goog</th>\n",
       "      <th>spy</th>\n",
       "      <th>qqq</th>\n",
       "    </tr>\n",
       "  </thead>\n",
       "  <tbody>\n",
       "    <tr>\n",
       "      <th>0</th>\n",
       "      <td>46.849542</td>\n",
       "      <td>19.48392</td>\n",
       "      <td>113.715758</td>\n",
       "      <td>25.178857</td>\n",
       "      <td>64.425475</td>\n",
       "      <td>33.910215</td>\n",
       "      <td>51.958459</td>\n",
       "    </tr>\n",
       "  </tbody>\n",
       "</table>\n",
       "</div>"
      ],
      "text/plain": [
       "        meta      amzn        aapl       nflx       goog        spy        qqq\n",
       "0  46.849542  19.48392  113.715758  25.178857  64.425475  33.910215  51.958459"
      ]
     },
     "execution_count": 33,
     "metadata": {},
     "output_type": "execute_result"
    }
   ],
   "source": [
    "SOI(60, 1000)"
   ]
  },
  {
   "cell_type": "markdown",
   "id": "e6947007",
   "metadata": {},
   "source": [
    "# Conclusion"
   ]
  },
  {
   "cell_type": "code",
   "execution_count": 34,
   "id": "580c45fe",
   "metadata": {},
   "outputs": [
    {
     "data": {
      "text/html": [
       "<div>\n",
       "<style scoped>\n",
       "    .dataframe tbody tr th:only-of-type {\n",
       "        vertical-align: middle;\n",
       "    }\n",
       "\n",
       "    .dataframe tbody tr th {\n",
       "        vertical-align: top;\n",
       "    }\n",
       "\n",
       "    .dataframe thead th {\n",
       "        text-align: right;\n",
       "    }\n",
       "</style>\n",
       "<table border=\"1\" class=\"dataframe\">\n",
       "  <thead>\n",
       "    <tr style=\"text-align: right;\">\n",
       "      <th></th>\n",
       "      <th>meta</th>\n",
       "      <th>amzn</th>\n",
       "      <th>aapl</th>\n",
       "      <th>nflx</th>\n",
       "      <th>goog</th>\n",
       "      <th>spy</th>\n",
       "      <th>qqq</th>\n",
       "    </tr>\n",
       "    <tr>\n",
       "      <th>Strategy</th>\n",
       "      <th></th>\n",
       "      <th></th>\n",
       "      <th></th>\n",
       "      <th></th>\n",
       "      <th></th>\n",
       "      <th></th>\n",
       "      <th></th>\n",
       "    </tr>\n",
       "  </thead>\n",
       "  <tbody>\n",
       "    <tr>\n",
       "      <th>All-In Investment Returns: 60K Invested 5 Years Ago</th>\n",
       "      <td>79.92%</td>\n",
       "      <td>37.80%</td>\n",
       "      <td>247.12%</td>\n",
       "      <td>15.92%</td>\n",
       "      <td>130.18%</td>\n",
       "      <td>68.56%</td>\n",
       "      <td>110.40%</td>\n",
       "    </tr>\n",
       "    <tr>\n",
       "      <th>Spread-Out Investment: 5K/mo for 1st Year</th>\n",
       "      <td>77.99%</td>\n",
       "      <td>57.47%</td>\n",
       "      <td>310.56%</td>\n",
       "      <td>32.32%</td>\n",
       "      <td>143.17%</td>\n",
       "      <td>73.03%</td>\n",
       "      <td>120.17%</td>\n",
       "    </tr>\n",
       "    <tr>\n",
       "      <th>Spread-Out Investment: Spread 1K over 3 Years</th>\n",
       "      <td>41.86%</td>\n",
       "      <td>24.05%</td>\n",
       "      <td>174.97%</td>\n",
       "      <td>14.60%</td>\n",
       "      <td>94.55%</td>\n",
       "      <td>50.33%</td>\n",
       "      <td>73.10%</td>\n",
       "    </tr>\n",
       "    <tr>\n",
       "      <th>Spread-Out Investment: Spread 1K over 5 Years</th>\n",
       "      <td>46.85%</td>\n",
       "      <td>19.48%</td>\n",
       "      <td>113.72%</td>\n",
       "      <td>25.18%</td>\n",
       "      <td>64.43%</td>\n",
       "      <td>33.91%</td>\n",
       "      <td>51.96%</td>\n",
       "    </tr>\n",
       "  </tbody>\n",
       "</table>\n",
       "</div>"
      ],
      "text/plain": [
       "                                                      meta    amzn     aapl  \\\n",
       "Strategy                                                                      \n",
       "All-In Investment Returns: 60K Invested 5 Years...  79.92%  37.80%  247.12%   \n",
       "Spread-Out Investment: 5K/mo for 1st Year           77.99%  57.47%  310.56%   \n",
       "Spread-Out Investment: Spread 1K over 3 Years       41.86%  24.05%  174.97%   \n",
       "Spread-Out Investment: Spread 1K over 5 Years       46.85%  19.48%  113.72%   \n",
       "\n",
       "                                                      nflx     goog     spy  \\\n",
       "Strategy                                                                      \n",
       "All-In Investment Returns: 60K Invested 5 Years...  15.92%  130.18%  68.56%   \n",
       "Spread-Out Investment: 5K/mo for 1st Year           32.32%  143.17%  73.03%   \n",
       "Spread-Out Investment: Spread 1K over 3 Years       14.60%   94.55%  50.33%   \n",
       "Spread-Out Investment: Spread 1K over 5 Years       25.18%   64.43%  33.91%   \n",
       "\n",
       "                                                        qqq  \n",
       "Strategy                                                     \n",
       "All-In Investment Returns: 60K Invested 5 Years...  110.40%  \n",
       "Spread-Out Investment: 5K/mo for 1st Year           120.17%  \n",
       "Spread-Out Investment: Spread 1K over 3 Years        73.10%  \n",
       "Spread-Out Investment: Spread 1K over 5 Years        51.96%  "
      ]
     },
     "execution_count": 34,
     "metadata": {},
     "output_type": "execute_result"
    }
   ],
   "source": [
    "conc = pd.DataFrame(columns = ['meta', 'amzn', 'aapl', 'nflx', 'goog', 'spy', 'qqq'])\n",
    "conc = pd.concat([conc, AII_return.tail(1).reset_index(drop=True), SOI(12, 5000).round(2), SOI(36, 1000).round(2), SOI(60, 1000).round(2)], ignore_index = True)\n",
    "conc.insert(0, 'Strategy', ['All-In Investment Returns: 60K Invested 5 Years Ago', 'Spread-Out Investment: 5K/mo for 1st Year', 'Spread-Out Investment: Spread 1K over 3 Years', 'Spread-Out Investment: Spread 1K over 5 Years'])\n",
    "conc = conc.set_index('Strategy')\n",
    "conc = conc.applymap(lambda x: '{:.2%}'.format(x / 100)); conc"
   ]
  },
  {
   "cell_type": "markdown",
   "id": "6191b658",
   "metadata": {},
   "source": [
    "#### All-In Investment:\n",
    "#### If you choose to invest in a single company, you can get a very good return, such as Apple and Google, which beat the index ETFs. However, you can also risk having a worse return, such as Amazon and Netflix. Knowing that FAANG stocks are popular and stable, buying unpopular stocks can result in even poorer results, so it's safer to buy index stocks, like SPY and QQQ. "
   ]
  },
  {
   "cell_type": "markdown",
   "id": "348ef97e",
   "metadata": {},
   "source": [
    "#### Spread-Out Investment:\n",
    "#### If you rank the return rate amongst stocks themselves, the FAANG, SPY, and QQQ stock returns rank similarly to All-In Investment. The same advice can be offered here: it's easier to invest in index stocks in order to produce the safest and best returns.\n",
    "#### However, to take note of the return percentages decreasing as the time frame for trading increased (excluding Facebook as an outlier), it's important that when choosing Spread-Out Investment, there should be a period of buying, and a longer period of holding the stock. This is most important to maximize returns."
   ]
  },
  {
   "cell_type": "markdown",
   "id": "ddf9aaa6",
   "metadata": {},
   "source": [
    "### Comparison\n",
    "\n",
    "#### It is clear that even though the stocks rank in the same order, Spread-Out Investment has comparitively better returns. That being said, choosing the dollar-cost averaging strategy produces the best results in terms of return on investment, regardless of amount of money invested, but only if the period of holding is long."
   ]
  }
 ],
 "metadata": {
  "kernelspec": {
   "display_name": "Python 3 (ipykernel)",
   "language": "python",
   "name": "python3"
  },
  "language_info": {
   "codemirror_mode": {
    "name": "ipython",
    "version": 3
   },
   "file_extension": ".py",
   "mimetype": "text/x-python",
   "name": "python",
   "nbconvert_exporter": "python",
   "pygments_lexer": "ipython3",
   "version": "3.11.4"
  }
 },
 "nbformat": 4,
 "nbformat_minor": 5
}
