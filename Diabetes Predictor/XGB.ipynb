{
 "cells": [
  {
   "cell_type": "markdown",
   "id": "5e0f8460",
   "metadata": {},
   "source": [
    "# XGBoost"
   ]
  },
  {
   "cell_type": "code",
   "execution_count": 1,
   "id": "59a75cc8",
   "metadata": {},
   "outputs": [],
   "source": [
    "import pandas as pd\n",
    "import matplotlib.pyplot as plt\n",
    "import seaborn as sns"
   ]
  },
  {
   "cell_type": "code",
   "execution_count": 2,
   "id": "65396f51",
   "metadata": {},
   "outputs": [],
   "source": [
    "from sklearn.model_selection import train_test_split\n",
    "from sklearn.metrics import classification_report, confusion_matrix, mean_squared_error\n",
    "import xgboost as xgb\n",
    "from sklearn.preprocessing import MinMaxScaler"
   ]
  },
  {
   "cell_type": "markdown",
   "id": "af94eeb7",
   "metadata": {},
   "source": [
    "# Data Integration"
   ]
  },
  {
   "cell_type": "code",
   "execution_count": 3,
   "id": "66ac3708",
   "metadata": {},
   "outputs": [],
   "source": [
    "# sorting data & predictors\n",
    "db = pd.read_csv(\"diabetes_012_health_indicators_BRFSS2015.csv\")\n",
    "db.drop_duplicates(inplace = True)"
   ]
  },
  {
   "cell_type": "code",
   "execution_count": 4,
   "id": "46c3bb43",
   "metadata": {},
   "outputs": [],
   "source": [
    "db = db[db[\"Diabetes_012\"] != 1] # drop prediabetes\n",
    "db['Diabetes_012'] = db['Diabetes_012'].replace(2,1)\n",
    "\n",
    "i_keep_0 = db[db['Diabetes_012'] == 0].sample(n = db['Diabetes_012'].value_counts()[1],\n",
    "                                   replace=False,\n",
    "                                   random_state = 1).index\n",
    "\n",
    "i_keep_all = db[db['Diabetes_012'] == 1].index.append(i_keep_0).sort_values()\n",
    "\n",
    "db = db.loc[i_keep_all].reset_index(drop=True)"
   ]
  },
  {
   "cell_type": "code",
   "execution_count": 5,
   "id": "f0c6e03e",
   "metadata": {},
   "outputs": [
    {
     "name": "stdout",
     "output_type": "stream",
     "text": [
      "   Diabetes_012   BMI  HighBP  HighChol  Sex   Age\n",
      "0           0.0  25.0     0.0       0.0  0.0   7.0\n",
      "1           0.0  27.0     1.0       0.0  0.0  11.0\n",
      "2           0.0  24.0     1.0       1.0  0.0  11.0\n",
      "3           1.0  30.0     1.0       1.0  0.0   9.0\n",
      "4           1.0  25.0     0.0       0.0  1.0  13.0\n",
      "5           1.0  28.0     1.0       1.0  0.0  11.0\n",
      "6           0.0  21.0     1.0       1.0  0.0  10.0\n",
      "7           1.0  23.0     0.0       0.0  1.0   7.0\n",
      "8           0.0  23.0     0.0       0.0  0.0   2.0\n",
      "9           1.0  27.0     1.0       0.0  0.0  13.0\n"
     ]
    }
   ],
   "source": [
    "# subsetting predictors\n",
    "db_main = db[['Diabetes_012', 'BMI', 'HighBP', 'HighChol', 'Sex', 'Age']]\n",
    "print(db_main.head(10))"
   ]
  },
  {
   "cell_type": "markdown",
   "id": "3c84ade7",
   "metadata": {},
   "source": [
    "# Model Building"
   ]
  },
  {
   "cell_type": "code",
   "execution_count": 6,
   "id": "ab51b340",
   "metadata": {},
   "outputs": [
    {
     "name": "stdout",
     "output_type": "stream",
     "text": [
      "        BMI  HighBP  HighChol  Sex   Age\n",
      "23171  28.0     1.0       1.0  0.0  10.0\n",
      "58306  32.0     1.0       1.0  0.0  11.0\n",
      "69947  28.0     1.0       1.0  0.0   7.0\n",
      "23265  33.0     1.0       1.0  1.0   8.0\n",
      "31645  27.0     0.0       1.0  0.0  12.0\n",
      "...     ...     ...       ...  ...   ...\n",
      "49100  21.0     1.0       1.0  0.0  12.0\n",
      "20609  18.0     0.0       0.0  0.0   3.0\n",
      "21440  54.0     1.0       0.0  0.0   8.0\n",
      "50057  36.0     1.0       1.0  1.0   5.0\n",
      "5192   27.0     1.0       1.0  0.0   7.0\n",
      "\n",
      "[63174 rows x 5 columns]\n"
     ]
    }
   ],
   "source": [
    "x = db_main.drop('Diabetes_012', axis = 1)\n",
    "\n",
    "\n",
    "scaler = MinMaxScaler(feature_range = (0, 1))\n",
    "xresc = scaler.fit_transform(x)\n",
    "x = pd.DataFrame(data = x, columns = x.columns)\n",
    "\n",
    "\n",
    "y = db_main['Diabetes_012']\n",
    "\n",
    "xtrain, xtest, ytrain, ytest = train_test_split(x, y, test_size = 0.1, random_state = 1)\n",
    "print(xtrain)"
   ]
  },
  {
   "cell_type": "code",
   "execution_count": 7,
   "id": "ee9d8a6d",
   "metadata": {},
   "outputs": [
    {
     "data": {
      "text/html": [
       "<style>#sk-container-id-1 {color: black;}#sk-container-id-1 pre{padding: 0;}#sk-container-id-1 div.sk-toggleable {background-color: white;}#sk-container-id-1 label.sk-toggleable__label {cursor: pointer;display: block;width: 100%;margin-bottom: 0;padding: 0.3em;box-sizing: border-box;text-align: center;}#sk-container-id-1 label.sk-toggleable__label-arrow:before {content: \"▸\";float: left;margin-right: 0.25em;color: #696969;}#sk-container-id-1 label.sk-toggleable__label-arrow:hover:before {color: black;}#sk-container-id-1 div.sk-estimator:hover label.sk-toggleable__label-arrow:before {color: black;}#sk-container-id-1 div.sk-toggleable__content {max-height: 0;max-width: 0;overflow: hidden;text-align: left;background-color: #f0f8ff;}#sk-container-id-1 div.sk-toggleable__content pre {margin: 0.2em;color: black;border-radius: 0.25em;background-color: #f0f8ff;}#sk-container-id-1 input.sk-toggleable__control:checked~div.sk-toggleable__content {max-height: 200px;max-width: 100%;overflow: auto;}#sk-container-id-1 input.sk-toggleable__control:checked~label.sk-toggleable__label-arrow:before {content: \"▾\";}#sk-container-id-1 div.sk-estimator input.sk-toggleable__control:checked~label.sk-toggleable__label {background-color: #d4ebff;}#sk-container-id-1 div.sk-label input.sk-toggleable__control:checked~label.sk-toggleable__label {background-color: #d4ebff;}#sk-container-id-1 input.sk-hidden--visually {border: 0;clip: rect(1px 1px 1px 1px);clip: rect(1px, 1px, 1px, 1px);height: 1px;margin: -1px;overflow: hidden;padding: 0;position: absolute;width: 1px;}#sk-container-id-1 div.sk-estimator {font-family: monospace;background-color: #f0f8ff;border: 1px dotted black;border-radius: 0.25em;box-sizing: border-box;margin-bottom: 0.5em;}#sk-container-id-1 div.sk-estimator:hover {background-color: #d4ebff;}#sk-container-id-1 div.sk-parallel-item::after {content: \"\";width: 100%;border-bottom: 1px solid gray;flex-grow: 1;}#sk-container-id-1 div.sk-label:hover label.sk-toggleable__label {background-color: #d4ebff;}#sk-container-id-1 div.sk-serial::before {content: \"\";position: absolute;border-left: 1px solid gray;box-sizing: border-box;top: 0;bottom: 0;left: 50%;z-index: 0;}#sk-container-id-1 div.sk-serial {display: flex;flex-direction: column;align-items: center;background-color: white;padding-right: 0.2em;padding-left: 0.2em;position: relative;}#sk-container-id-1 div.sk-item {position: relative;z-index: 1;}#sk-container-id-1 div.sk-parallel {display: flex;align-items: stretch;justify-content: center;background-color: white;position: relative;}#sk-container-id-1 div.sk-item::before, #sk-container-id-1 div.sk-parallel-item::before {content: \"\";position: absolute;border-left: 1px solid gray;box-sizing: border-box;top: 0;bottom: 0;left: 50%;z-index: -1;}#sk-container-id-1 div.sk-parallel-item {display: flex;flex-direction: column;z-index: 1;position: relative;background-color: white;}#sk-container-id-1 div.sk-parallel-item:first-child::after {align-self: flex-end;width: 50%;}#sk-container-id-1 div.sk-parallel-item:last-child::after {align-self: flex-start;width: 50%;}#sk-container-id-1 div.sk-parallel-item:only-child::after {width: 0;}#sk-container-id-1 div.sk-dashed-wrapped {border: 1px dashed gray;margin: 0 0.4em 0.5em 0.4em;box-sizing: border-box;padding-bottom: 0.4em;background-color: white;}#sk-container-id-1 div.sk-label label {font-family: monospace;font-weight: bold;display: inline-block;line-height: 1.2em;}#sk-container-id-1 div.sk-label-container {text-align: center;}#sk-container-id-1 div.sk-container {/* jupyter's `normalize.less` sets `[hidden] { display: none; }` but bootstrap.min.css set `[hidden] { display: none !important; }` so we also need the `!important` here to be able to override the default hidden behavior on the sphinx rendered scikit-learn.org. See: https://github.com/scikit-learn/scikit-learn/issues/21755 */display: inline-block !important;position: relative;}#sk-container-id-1 div.sk-text-repr-fallback {display: none;}</style><div id=\"sk-container-id-1\" class=\"sk-top-container\"><div class=\"sk-text-repr-fallback\"><pre>XGBClassifier(base_score=None, booster=None, callbacks=None,\n",
       "              colsample_bylevel=None, colsample_bynode=None,\n",
       "              colsample_bytree=None, device=None, early_stopping_rounds=None,\n",
       "              enable_categorical=False, eval_metric=None, feature_types=None,\n",
       "              gamma=None, grow_policy=None, importance_type=None,\n",
       "              interaction_constraints=None, learning_rate=0.35, max_bin=None,\n",
       "              max_cat_threshold=None, max_cat_to_onehot=None,\n",
       "              max_delta_step=None, max_depth=3, max_leaves=None,\n",
       "              min_child_weight=None, missing=nan, monotone_constraints=None,\n",
       "              multi_strategy=None, n_estimators=88, n_jobs=None,\n",
       "              num_parallel_tree=None, random_state=None, ...)</pre><b>In a Jupyter environment, please rerun this cell to show the HTML representation or trust the notebook. <br />On GitHub, the HTML representation is unable to render, please try loading this page with nbviewer.org.</b></div><div class=\"sk-container\" hidden><div class=\"sk-item\"><div class=\"sk-estimator sk-toggleable\"><input class=\"sk-toggleable__control sk-hidden--visually\" id=\"sk-estimator-id-1\" type=\"checkbox\" checked><label for=\"sk-estimator-id-1\" class=\"sk-toggleable__label sk-toggleable__label-arrow\">XGBClassifier</label><div class=\"sk-toggleable__content\"><pre>XGBClassifier(base_score=None, booster=None, callbacks=None,\n",
       "              colsample_bylevel=None, colsample_bynode=None,\n",
       "              colsample_bytree=None, device=None, early_stopping_rounds=None,\n",
       "              enable_categorical=False, eval_metric=None, feature_types=None,\n",
       "              gamma=None, grow_policy=None, importance_type=None,\n",
       "              interaction_constraints=None, learning_rate=0.35, max_bin=None,\n",
       "              max_cat_threshold=None, max_cat_to_onehot=None,\n",
       "              max_delta_step=None, max_depth=3, max_leaves=None,\n",
       "              min_child_weight=None, missing=nan, monotone_constraints=None,\n",
       "              multi_strategy=None, n_estimators=88, n_jobs=None,\n",
       "              num_parallel_tree=None, random_state=None, ...)</pre></div></div></div></div></div>"
      ],
      "text/plain": [
       "XGBClassifier(base_score=None, booster=None, callbacks=None,\n",
       "              colsample_bylevel=None, colsample_bynode=None,\n",
       "              colsample_bytree=None, device=None, early_stopping_rounds=None,\n",
       "              enable_categorical=False, eval_metric=None, feature_types=None,\n",
       "              gamma=None, grow_policy=None, importance_type=None,\n",
       "              interaction_constraints=None, learning_rate=0.35, max_bin=None,\n",
       "              max_cat_threshold=None, max_cat_to_onehot=None,\n",
       "              max_delta_step=None, max_depth=3, max_leaves=None,\n",
       "              min_child_weight=None, missing=nan, monotone_constraints=None,\n",
       "              multi_strategy=None, n_estimators=88, n_jobs=None,\n",
       "              num_parallel_tree=None, random_state=None, ...)"
      ]
     },
     "execution_count": 7,
     "metadata": {},
     "output_type": "execute_result"
    }
   ],
   "source": [
    "xgb_clf = xgb.XGBClassifier(n_estimators = 88, learning_rate = 0.35, \n",
    "                            max_depth = 3, seed = 1)\n",
    "xgb_clf.fit(xtrain, ytrain)"
   ]
  },
  {
   "cell_type": "code",
   "execution_count": 8,
   "id": "2a65299e",
   "metadata": {},
   "outputs": [
    {
     "name": "stdout",
     "output_type": "stream",
     "text": [
      "        BMI  HighBP  HighChol  Sex   Age\n",
      "36091  24.0     0.0       0.0  0.0   9.0\n",
      "50778  21.0     0.0       0.0  0.0   3.0\n",
      "25311  30.0     1.0       1.0  0.0  11.0\n",
      "12805  27.0     1.0       1.0  0.0  13.0\n",
      "21248  41.0     1.0       0.0  0.0   6.0\n",
      "2009   41.0     0.0       0.0  0.0   5.0\n",
      "36355  27.0     0.0       0.0  0.0  13.0\n",
      "69454  28.0     0.0       1.0  1.0  10.0\n",
      "56293  39.0     0.0       0.0  0.0   5.0\n",
      "42251  26.0     1.0       1.0  1.0  10.0\n",
      "[0 0 1 ... 1 0 0]\n"
     ]
    }
   ],
   "source": [
    "pred = xgb_clf.predict(xtest)\n",
    "print(xtest.head(10))\n",
    "print(pred)"
   ]
  },
  {
   "cell_type": "code",
   "execution_count": 9,
   "id": "553d6880",
   "metadata": {},
   "outputs": [
    {
     "name": "stdout",
     "output_type": "stream",
     "text": [
      "Training MSE: 0.2855\n",
      "Testing MSE: 0.2862\n"
     ]
    }
   ],
   "source": [
    "print(f'Training MSE: {round(mean_squared_error(xgb_clf.predict(xtrain), ytrain), 4)}')\n",
    "print(f'Testing MSE: {round(mean_squared_error(pred, ytest), 4)}')"
   ]
  },
  {
   "cell_type": "code",
   "execution_count": 10,
   "id": "8cddb6f0",
   "metadata": {},
   "outputs": [
    {
     "name": "stdout",
     "output_type": "stream",
     "text": [
      "              precision    recall  f1-score   support\n",
      "\n",
      " No Diabetes     0.7467    0.6643    0.7031      3581\n",
      "    Diabetes     0.6865    0.7653    0.7238      3439\n",
      "\n",
      "    accuracy                         0.7138      7020\n",
      "   macro avg     0.7166    0.7148    0.7134      7020\n",
      "weighted avg     0.7172    0.7138    0.7132      7020\n",
      "\n"
     ]
    }
   ],
   "source": [
    "print(classification_report(ytest, pred,\n",
    "                            digits = 4,\n",
    "                            target_names = [\"No Diabetes\", \"Diabetes\"],\n",
    "                            zero_division = 1))"
   ]
  },
  {
   "cell_type": "code",
   "execution_count": 11,
   "id": "ceccf6cf",
   "metadata": {},
   "outputs": [
    {
     "data": {
      "image/png": "[encoded data removed]",
      "text/plain": [
       "<Figure size 640x480 with 2 Axes>"
      ]
     },
     "metadata": {},
     "output_type": "display_data"
    }
   ],
   "source": [
    "cm = confusion_matrix(ytest, pred)\n",
    "sns.heatmap(cm, annot = True, fmt = \"d\", cmap = \"Blues\")\n",
    "plt.title('Confusion Matrix')\n",
    "plt.xlabel('Predicted')\n",
    "plt.ylabel('Actual')\n",
    "plt.show()"
   ]
  },
  {
   "cell_type": "code",
   "execution_count": 12,
   "id": "8e0822a9",
   "metadata": {},
   "outputs": [
    {
     "data": {
      "text/plain": [
       "array([0.05871534, 0.669013  , 0.18289655, 0.02246245, 0.06691264],\n",
       "      dtype=float32)"
      ]
     },
     "execution_count": 12,
     "metadata": {},
     "output_type": "execute_result"
    }
   ],
   "source": [
    "xgb_clf.feature_importances_"
   ]
  },
  {
   "cell_type": "code",
   "execution_count": 18,
   "id": "25abce41",
   "metadata": {},
   "outputs": [
    {
     "name": "stdout",
     "output_type": "stream",
     "text": [
      "Prediction for the new input: 0\n"
     ]
    }
   ],
   "source": [
    "# Create a new input sample for testing\n",
    "new_input = pd.DataFrame({\n",
    "    'BMI': [25],\n",
    "    'HighBP': [1],\n",
    "    'HighChol': [1],\n",
    "    'Sex': [1],\n",
    "    'Age': [4],\n",
    "})\n",
    "\n",
    "\n",
    "\n",
    "# Predict the output for the new input\n",
    "prediction = xgb_clf.predict(new_input)\n",
    "\n",
    "# Display the prediction\n",
    "print(\"Prediction for the new input:\", prediction[0])"
   ]
  },
  {
   "cell_type": "markdown",
   "id": "943813fe",
   "metadata": {},
   "source": [
    "# Chosen Model"
   ]
  },
  {
   "cell_type": "code",
   "execution_count": 14,
   "id": "acf13ad3",
   "metadata": {},
   "outputs": [],
   "source": [
    "import pickle\n",
    "\n",
    "with open('XGB.pkl', 'wb') as file:\n",
    "    pickle.dump(xgb_clf, file)"
   ]
  }
 ],
 "metadata": {
  "kernelspec": {
   "display_name": "Python 3 (ipykernel)",
   "language": "python",
   "name": "python3"
  },
  "language_info": {
   "codemirror_mode": {
    "name": "ipython",
    "version": 3
   },
   "file_extension": ".py",
   "mimetype": "text/x-python",
   "name": "python",
   "nbconvert_exporter": "python",
   "pygments_lexer": "ipython3",
   "version": "3.11.4"
  }
 },
 "nbformat": 4,
 "nbformat_minor": 5
}
